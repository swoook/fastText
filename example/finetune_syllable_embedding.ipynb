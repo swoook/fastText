{
 "cells": [
  {
   "cell_type": "markdown",
   "id": "9f353b38-6185-455b-bfa9-06db3aebd98c",
   "metadata": {},
   "source": [
    "# Finetune Korean syllable embedding for NMSC"
   ]
  },
  {
   "cell_type": "markdown",
   "id": "1703c4ca-2a6c-4866-9c25-c754a13cfaaa",
   "metadata": {
    "tags": []
   },
   "source": [
    "## Import"
   ]
  },
  {
   "cell_type": "code",
   "execution_count": null,
   "id": "37c35604-9014-48a6-b1be-b7ead5be2bc7",
   "metadata": {},
   "outputs": [],
   "source": [
    "import os\n",
    "import json\n",
    "from tqdm import tqdm\n",
    "import fasttext\n",
    "from mecab import MeCab\n",
    "import pandas as pd\n",
    "import numpy as np\n",
    "from sklearn.model_selection import train_test_split\n",
    "from sklearn.metrics import precision_recall_curve, PrecisionRecallDisplay, confusion_matrix, accuracy_score, fbeta_score\n",
    "from pandarallel import pandarallel\n",
    "pandarallel.initialize(progress_bar=True, use_memory_fs=True)"
   ]
  },
  {
   "cell_type": "markdown",
   "id": "c6dccb5c-ba2e-483f-a94b-9a126903619a",
   "metadata": {
    "tags": []
   },
   "source": [
    "## Initialization"
   ]
  },
  {
   "cell_type": "markdown",
   "id": "122411d2-505a-4c6d-ba26-961ebfcd6a94",
   "metadata": {
    "tags": []
   },
   "source": [
    "### Some directories and filepaths\n",
    "\n",
    "- `dataset`: `.csv` file (This notebook expects it to include two columns, `text` and `label`)\n",
    "- `pretrained_bin`: `.bin` file of the pre-trained embeddings\n",
    "- `pretrained_vec`: `.vec` file of the pre-trained embeddings\n",
    "- `trainset`: `.txt` file where each line follows the format `__label__<label> <text>`"
   ]
  },
  {
   "cell_type": "code",
   "execution_count": null,
   "id": "7ac6146f-7169-461d-86de-fbde20574266",
   "metadata": {},
   "outputs": [],
   "source": [
    "filepaths = dict()\n",
    "filepaths['dataset'] = './dataset.csv'\n",
    "filepaths['pretrained_bin'] = './fasttext.bin'\n",
    "filepaths['pretrained_vec'] = './fasttext.vec'\n",
    "filepaths['trainset'] = './train.txt'\n",
    "filepaths['valset'] = './val.txt'"
   ]
  },
  {
   "cell_type": "markdown",
   "id": "aa580e14-a1be-4c0d-9d85-a4747c6e6564",
   "metadata": {
    "tags": []
   },
   "source": [
    "### Dataset"
   ]
  },
  {
   "cell_type": "code",
   "execution_count": null,
   "id": "31fd2e39-3339-4365-a6b9-fa586e8941b9",
   "metadata": {},
   "outputs": [],
   "source": [
    "dataset = pd.read_csv(filepaths['dataset'])\n",
    "num_classes = dataset['label'].nunique()"
   ]
  },
  {
   "cell_type": "code",
   "execution_count": null,
   "id": "4b3a1fff-cbcb-45ac-95a1-998fa9c91b19",
   "metadata": {},
   "outputs": [],
   "source": [
    "train_set, val_set = train_test_split(dataset, test_size=0.3, random_state=777, stratify=dataset['label'])"
   ]
  },
  {
   "cell_type": "code",
   "execution_count": null,
   "id": "6ffc69f6-6b44-4483-85d2-717344342415",
   "metadata": {},
   "outputs": [],
   "source": [
    "train_set"
   ]
  },
  {
   "cell_type": "code",
   "execution_count": null,
   "id": "0383ccd1-4097-49cc-9064-973e2bef7627",
   "metadata": {},
   "outputs": [],
   "source": [
    "val_set"
   ]
  },
  {
   "cell_type": "markdown",
   "id": "e66866d0-9ceb-472a-a12f-1dd071aa1c12",
   "metadata": {
    "tags": []
   },
   "source": [
    "### MeCab analyzer"
   ]
  },
  {
   "cell_type": "code",
   "execution_count": null,
   "id": "50dbef08-4050-4a6c-a983-c1090320e94d",
   "metadata": {},
   "outputs": [],
   "source": [
    "mecab = MeCab()"
   ]
  },
  {
   "cell_type": "markdown",
   "id": "f8da3145-c7d8-4fcc-807f-e9bc3f687068",
   "metadata": {
    "tags": []
   },
   "source": [
    "### fastText"
   ]
  },
  {
   "cell_type": "code",
   "execution_count": null,
   "id": "9cb72dd2-36df-4a95-9a12-51724923fc6d",
   "metadata": {},
   "outputs": [],
   "source": [
    "model = fasttext.load_model(filepaths['pretrained_bin'])"
   ]
  },
  {
   "cell_type": "markdown",
   "id": "ba6d9c1e-7c33-42bb-a890-069c0541f624",
   "metadata": {},
   "source": [
    "#### E.g., 10-th token"
   ]
  },
  {
   "cell_type": "code",
   "execution_count": null,
   "id": "d341e8aa-4477-416d-bbfc-ea11238ee97b",
   "metadata": {},
   "outputs": [],
   "source": [
    "model.words[:10]"
   ]
  },
  {
   "cell_type": "markdown",
   "id": "1c69cd86-7a47-439b-aa50-6beb717c6ee8",
   "metadata": {
    "tags": []
   },
   "source": [
    "## Fine-tuning"
   ]
  },
  {
   "cell_type": "code",
   "execution_count": null,
   "id": "689d749d-ad28-4825-81fc-158b42566469",
   "metadata": {},
   "outputs": [],
   "source": [
    "def write_fasttext_dataset(dataframe, dst_path, label_map):\n",
    "    results = dataframe.apply(\n",
    "        lambda x: ''.join([label_map[x['label']], ' ', x['text']]),\n",
    "        axis=1\n",
    "    )\n",
    "    \n",
    "    results.to_csv(dst_path, header=False, index=False)"
   ]
  },
  {
   "cell_type": "code",
   "execution_count": null,
   "id": "5dd4eb1a-841c-453b-9cc6-97a04f514ef1",
   "metadata": {},
   "outputs": [],
   "source": [
    "label_map = dict()\n",
    "label_map[0] = '__label__Neutral'\n",
    "label_map[1] = '__label__Toxic'\n",
    "    \n",
    "write_fasttext_dataset(train_set, 'train.txt', label_map)\n",
    "write_fasttext_dataset(val_set, 'val.txt', label_map)"
   ]
  },
  {
   "cell_type": "code",
   "execution_count": null,
   "id": "0daef36c-0506-40a0-9391-dc8645b92032",
   "metadata": {},
   "outputs": [],
   "source": [
    "model = fasttext.train_supervised(\n",
    "    'train.txt', \n",
    "    pretrainedVectors=filepaths['pretrained_vec'],\n",
    ")"
   ]
  },
  {
   "cell_type": "code",
   "execution_count": null,
   "id": "d0602ba2-b25c-4a73-92b2-18a68cc4bd3e",
   "metadata": {},
   "outputs": [],
   "source": [
    "val_set"
   ]
  },
  {
   "cell_type": "code",
   "execution_count": null,
   "id": "780fc378-29d5-4172-b5c1-3f54564dcf7f",
   "metadata": {},
   "outputs": [],
   "source": [
    "tqdm.pandas()"
   ]
  },
  {
   "cell_type": "code",
   "execution_count": null,
   "id": "9b044606-b9e5-4066-9f43-6ee6df965655",
   "metadata": {},
   "outputs": [],
   "source": [
    "def infer(model, val_set, topk=2):\n",
    "    return val_set.progress_apply(lambda x: model.predict(x['text'], k=topk), axis=1)"
   ]
  },
  {
   "cell_type": "code",
   "execution_count": null,
   "id": "ab3eccc1-7294-4e94-b4aa-d0e0cb22eaeb",
   "metadata": {},
   "outputs": [],
   "source": [
    "%%time\n",
    "validation_results = infer(model, val_set)"
   ]
  },
  {
   "cell_type": "code",
   "execution_count": null,
   "id": "8e48ef60-ae61-41df-9fd7-04b32e126d28",
   "metadata": {},
   "outputs": [],
   "source": [
    "validation_results"
   ]
  },
  {
   "cell_type": "code",
   "execution_count": null,
   "id": "ca154bed-1c5a-410c-8dd9-d2cc1030c503",
   "metadata": {},
   "outputs": [],
   "source": [
    "# model.save_model(\"model_filename.bin\")"
   ]
  },
  {
   "cell_type": "markdown",
   "id": "e64de84d-a47d-4a76-b0fb-d6014356a8d6",
   "metadata": {
    "tags": []
   },
   "source": [
    "## Validation"
   ]
  },
  {
   "cell_type": "markdown",
   "id": "6c7bfc43-3ad4-4d92-b6af-3126e2164bcb",
   "metadata": {},
   "source": [
    "### P@1, R@1\n",
    "\n",
    "- Do not use if the task is not multi-label classification"
   ]
  },
  {
   "cell_type": "code",
   "execution_count": null,
   "id": "5d2e2d39-db7d-400b-af0c-8d0c97bff071",
   "metadata": {},
   "outputs": [],
   "source": [
    "def print_results(N, p, r):\n",
    "    print(\"N\\t\" + str(N))\n",
    "    print(\"P@{}\\t{:.3f}\".format(1, p))\n",
    "    print(\"R@{}\\t{:.3f}\".format(1, r))\n",
    "\n",
    "print_results(*model.test('val.txt'))"
   ]
  },
  {
   "cell_type": "markdown",
   "id": "6a561926-b992-4d08-8f7f-0ef142500490",
   "metadata": {},
   "source": [
    "### precision-recall curve"
   ]
  },
  {
   "cell_type": "code",
   "execution_count": null,
   "id": "ca8b18df-b2e1-4902-86eb-2aafdd2cd4ef",
   "metadata": {},
   "outputs": [],
   "source": [
    "def plot_precision_recall_curve(model, dataset):\n",
    "    labels = dataset['label']\n",
    "    preds = dataset.progress_apply(lambda x: model.predict(x['text'], k=2), axis=1)\n",
    "    preds = preds.apply(lambda x: np.array(x[1])[np.argsort(x[0])][1])\n",
    "    PrecisionRecallDisplay.from_predictions(labels, preds)"
   ]
  },
  {
   "cell_type": "code",
   "execution_count": null,
   "id": "3d86281b-6125-4f06-b06c-1d3aa2013695",
   "metadata": {},
   "outputs": [],
   "source": [
    "plot_precision_recall_curve(model, val_set)"
   ]
  },
  {
   "cell_type": "code",
   "execution_count": null,
   "id": "10a9e960-c128-4646-96c6-d7ba681b8a99",
   "metadata": {},
   "outputs": [],
   "source": [
    "def get_precision_recall_curve(model, dataset):\n",
    "    labels = dataset['label']\n",
    "    preds = dataset.progress_apply(lambda x: model.predict(x['text'], k=2), axis=1)\n",
    "    preds = preds.apply(lambda x: np.array(x[1])[np.argsort(x[0])][1])\n",
    "    return precision_recall_curve(labels, preds)"
   ]
  },
  {
   "cell_type": "code",
   "execution_count": null,
   "id": "7297c872-0377-4e76-8ff0-0f37b422388d",
   "metadata": {},
   "outputs": [],
   "source": [
    "metrics = dict()\n",
    "metrics['precision'], metrics['recall'], metrics['threshold'] = get_precision_recall_curve(model, val_set)"
   ]
  },
  {
   "cell_type": "markdown",
   "id": "e641217a-2db9-4865-a53d-e945864a05c9",
   "metadata": {},
   "source": [
    "### Finding an optimal threshold based on f1-score"
   ]
  },
  {
   "cell_type": "code",
   "execution_count": null,
   "id": "0afc5bf9-5a5f-46bd-a898-b63ecb5e95ae",
   "metadata": {},
   "outputs": [],
   "source": [
    "def get_fbeta_score(precision, recall, beta=1):\n",
    "    coefficient = (1 + beta**2)\n",
    "    numerator = precision * recall\n",
    "    denominator = ((beta**2) * precision) + recall\n",
    "    return coefficient * (numerator/denominator)"
   ]
  },
  {
   "cell_type": "code",
   "execution_count": null,
   "id": "2f00d7d6-ca18-49e5-acfc-9531e99c1d8c",
   "metadata": {},
   "outputs": [],
   "source": [
    "f1_scores = get_fbeta_score(metrics['precision'], metrics['recall'])\n",
    "best_threshold = metrics['threshold'][f1_scores.argmax()]\n",
    "best_precision = metrics['precision'][f1_scores.argmax()]\n",
    "best_recall = metrics['recall'][f1_scores.argmax()]"
   ]
  },
  {
   "cell_type": "code",
   "execution_count": null,
   "id": "79fcca46-3ec1-46d0-90e6-6706dd99946d",
   "metadata": {},
   "outputs": [],
   "source": [
    "f1_scores.max()"
   ]
  },
  {
   "cell_type": "code",
   "execution_count": null,
   "id": "ef79e0f3-29e4-477d-8dfd-b44d4c26668b",
   "metadata": {},
   "outputs": [],
   "source": [
    "f1_scores.argmax()"
   ]
  },
  {
   "cell_type": "code",
   "execution_count": null,
   "id": "895b4587-f460-45e0-93af-c6096497fc09",
   "metadata": {},
   "outputs": [],
   "source": [
    "best_threshold"
   ]
  },
  {
   "cell_type": "code",
   "execution_count": null,
   "id": "51f9d9b2-4064-409e-bf5c-fcf61340e69a",
   "metadata": {},
   "outputs": [],
   "source": [
    "best_precision"
   ]
  },
  {
   "cell_type": "code",
   "execution_count": null,
   "id": "1c24d8e7-d1d9-4f78-804f-58919fb2e20a",
   "metadata": {},
   "outputs": [],
   "source": [
    "best_recall"
   ]
  }
 ],
 "metadata": {
  "kernelspec": {
   "display_name": "Python 3 (ipykernel)",
   "language": "python",
   "name": "python3"
  },
  "language_info": {
   "codemirror_mode": {
    "name": "ipython",
    "version": 3
   },
   "file_extension": ".py",
   "mimetype": "text/x-python",
   "name": "python",
   "nbconvert_exporter": "python",
   "pygments_lexer": "ipython3",
   "version": "3.10.7"
  }
 },
 "nbformat": 4,
 "nbformat_minor": 5
}
