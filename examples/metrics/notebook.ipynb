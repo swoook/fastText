{
 "cells": [
  {
   "cell_type": "code",
   "execution_count": null,
   "id": "30d84b81-adb9-4bfb-b147-8a90d6cf6d6f",
   "metadata": {},
   "outputs": [],
   "source": [
    "import pandas as pd\n",
    "from pandarallel import pandarallel\n",
    "from sklearn.metrics import precision_recall_curve, PrecisionRecallDisplay, average_precision_score"
   ]
  },
  {
   "cell_type": "markdown",
   "id": "04578eb4-c44e-4feb-9aa9-4c38a303bc9f",
   "metadata": {},
   "source": [
    "## Precision-recall curve"
   ]
  },
  {
   "cell_type": "code",
   "execution_count": null,
   "id": "7f193707-26ea-4cdb-b7f8-b68f914aed6d",
   "metadata": {},
   "outputs": [],
   "source": [
    "def get_precision_recall_curve(model, dataset, positive_label, num_classes):\n",
    "    labels = dataset['label']#.astype('int')\n",
    "    labels[labels != positive_label] = 0\n",
    "    labels[labels == positive_label] = 1\n",
    "    labels = labels.astype('int')\n",
    "    \n",
    "    preds = dataset.progress_apply(\n",
    "        lambda x: model.predict(\n",
    "            x['document'], \n",
    "            k=num_classes\n",
    "        ), \n",
    "        axis=1\n",
    "    )\n",
    "    preds = preds.apply(\n",
    "        lambda x: np.array(x[1])[np.array(x[0]) == positive_label]\n",
    "    )\n",
    "    \n",
    "    return precision_recall_curve(labels, preds)"
   ]
  },
  {
   "cell_type": "markdown",
   "id": "039daf66-de4f-4e6c-aed4-8fcb35bd05e4",
   "metadata": {},
   "source": [
    "## F-score"
   ]
  },
  {
   "cell_type": "code",
   "execution_count": null,
   "id": "e27b9c66-8eb0-477b-8711-c349193d0aac",
   "metadata": {},
   "outputs": [],
   "source": [
    "def get_fbeta_score(precision, recall, beta=1):\n",
    "    coefficient = (1 + beta**2)\n",
    "    numerator = precision * recall\n",
    "    denominator = ((beta**2) * precision) + recall\n",
    "    return coefficient * (numerator/denominator)"
   ]
  },
  {
   "cell_type": "markdown",
   "id": "dc732ef5-6047-4f4f-a466-cecd74d071d7",
   "metadata": {},
   "source": [
    "## Optimal threshold (based on F-score) and its precision-recall"
   ]
  },
  {
   "cell_type": "code",
   "execution_count": null,
   "id": "5f4f184d-26d3-4990-9920-e50cc2cb44f3",
   "metadata": {},
   "outputs": [],
   "source": [
    "def get_optimal_threshold(thresholds, fbeta_scores, precisions, recalls):\n",
    "    optimal_threshold = thresholds[fbeta_scores.argmax()]\n",
    "    optimal_precision = precisions[fbeta_scores.argmax()]\n",
    "    optimal_recall = recalls[fbeta_scores.argmax()]\n",
    "    \n",
    "    return optimal_threshold, optimal_precision, optimal_recall, fbeta_scores.max()"
   ]
  }
 ],
 "metadata": {
  "kernelspec": {
   "display_name": "Python 3 (ipykernel)",
   "language": "python",
   "name": "python3"
  },
  "language_info": {
   "codemirror_mode": {
    "name": "ipython",
    "version": 3
   },
   "file_extension": ".py",
   "mimetype": "text/x-python",
   "name": "python",
   "nbconvert_exporter": "python",
   "pygments_lexer": "ipython3",
   "version": "3.10.7"
  }
 },
 "nbformat": 4,
 "nbformat_minor": 5
}
