{
 "cells": [
  {
   "cell_type": "markdown",
   "id": "8e3df580-333c-4d37-8630-e2c9bb63e59c",
   "metadata": {},
   "source": [
    "# Tokenization"
   ]
  },
  {
   "cell_type": "markdown",
   "id": "f2f14d84-5033-42ce-9060-13cdece99433",
   "metadata": {},
   "source": [
    "### Named Entity Normalization: person name\n",
    "\n",
    "- Proper nouns are one of the parts of speech where a lot of new words appears\n",
    "- E.g., person name, movie title, ...\n",
    "- That's why I implemented the normalization below\n",
    "- However, there is a lot of words with strong ambiguity in the person name dictionary provided by default in MeCab\n",
    "- So it may be more appropriate to remove the default person name dictionary and build a new one ourselves in terms of disambiguation if we can obtain a list of people names\n",
    "- E.g., f1(val) w/ NEN is 0.850 and w/o is 0.852\n",
    "- And `인명` may be too general to be used for normalization\n",
    "- So it may be appropriate to normalize by their jobs or other characteristics"
   ]
  },
  {
   "cell_type": "code",
   "execution_count": null,
   "id": "c01dbaa8-7bdb-41fb-a23c-d4c3f15f570a",
   "metadata": {},
   "outputs": [],
   "source": [
    "def normalize_person_names(x):\n",
    "    morphemes = mecab.parse(x)\n",
    "    result = x\n",
    "    \n",
    "    for idx, morpheme in enumerate(morphemes):\n",
    "        if morpheme[1].semantic != '인명': continue        \n",
    "        result = result.replace(\n",
    "            morpheme[0], \n",
    "            '사람', \n",
    "            1\n",
    "        )\n",
    "        \n",
    "    result = ' '.join(mecab.morphs(result))\n",
    "        \n",
    "    return result\n",
    "\n",
    "def analyze(documents):\n",
    "    return documents.parallel_apply(\n",
    "        lambda x: normalize_person_names(x)\n",
    "    )"
   ]
  }
 ],
 "metadata": {
  "kernelspec": {
   "display_name": "Python 3 (ipykernel)",
   "language": "python",
   "name": "python3"
  },
  "language_info": {
   "codemirror_mode": {
    "name": "ipython",
    "version": 3
   },
   "file_extension": ".py",
   "mimetype": "text/x-python",
   "name": "python",
   "nbconvert_exporter": "python",
   "pygments_lexer": "ipython3",
   "version": "3.7.13"
  }
 },
 "nbformat": 4,
 "nbformat_minor": 5
}
