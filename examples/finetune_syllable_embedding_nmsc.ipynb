{
 "cells": [
  {
   "cell_type": "markdown",
   "id": "9f353b38-6185-455b-bfa9-06db3aebd98c",
   "metadata": {},
   "source": [
    "# Finetune Korean syllable embedding for NMSC"
   ]
  },
  {
   "cell_type": "markdown",
   "id": "1703c4ca-2a6c-4866-9c25-c754a13cfaaa",
   "metadata": {
    "tags": []
   },
   "source": [
    "## Import"
   ]
  },
  {
   "cell_type": "code",
   "execution_count": 1,
   "id": "37c35604-9014-48a6-b1be-b7ead5be2bc7",
   "metadata": {},
   "outputs": [
    {
     "name": "stdout",
     "output_type": "stream",
     "text": [
      "INFO: Pandarallel will run on 32 workers.\n",
      "INFO: Pandarallel will use Memory file system to transfer data between the main process and workers.\n"
     ]
    }
   ],
   "source": [
    "import os\n",
    "import json\n",
    "import csv\n",
    "from tqdm import tqdm\n",
    "import fasttext\n",
    "from mecab import MeCab\n",
    "import pandas as pd\n",
    "import numpy as np\n",
    "from sklearn.model_selection import train_test_split\n",
    "from sklearn.metrics import precision_recall_curve, PrecisionRecallDisplay, confusion_matrix, accuracy_score, fbeta_score\n",
    "from pandarallel import pandarallel\n",
    "pandarallel.initialize(progress_bar=True, use_memory_fs=True)\n",
    "\n",
    "import utils"
   ]
  },
  {
   "cell_type": "markdown",
   "id": "c6dccb5c-ba2e-483f-a94b-9a126903619a",
   "metadata": {
    "tags": []
   },
   "source": [
    "## Initialization"
   ]
  },
  {
   "cell_type": "markdown",
   "id": "122411d2-505a-4c6d-ba26-961ebfcd6a94",
   "metadata": {
    "tags": []
   },
   "source": [
    "### Configuration\n",
    "\n",
    "- `train_origin`: original NMSC train set `.txt` file\n",
    "- `test_origin`: original NMSC test set `.txt` file\n",
    "- `<train|val|test>_fastText`: `.txt` file where each line follows the format `__label__<label> <text>`\n",
    "- `pretrained_bin`: `.bin` file of the pre-trained embeddings\n",
    "- `pretrained_vec`: `.vec` file of the pre-trained embeddings"
   ]
  },
  {
   "cell_type": "code",
   "execution_count": 2,
   "id": "7ac6146f-7169-461d-86de-fbde20574266",
   "metadata": {},
   "outputs": [],
   "source": [
    "config = dict()\n",
    "config['train_url'] = 'https://github.com/e9t/nsmc/raw/master/ratings_train.txt'\n",
    "config['test_url'] = 'https://github.com/e9t/nsmc/raw/master/ratings_test.txt'\n",
    "config['train_set'] = './nmsc_train.txt'\n",
    "config['val_set'] = './nmsc_val.txt'\n",
    "config['test_set'] = './nmsc_test.txt'\n",
    "config['pretrained_bin'] = './fasttext.bin'\n",
    "config['pretrained_vec'] = './fasttext.vec'"
   ]
  },
  {
   "cell_type": "markdown",
   "id": "aa580e14-a1be-4c0d-9d85-a4747c6e6564",
   "metadata": {
    "tags": []
   },
   "source": [
    "### Dataset"
   ]
  },
  {
   "cell_type": "code",
   "execution_count": 3,
   "id": "1eddf624-9ac7-45b9-a907-95dc58c17261",
   "metadata": {},
   "outputs": [],
   "source": [
    "train_set =  utils.parse_nmsc_txt_to_dataframe(config['train_url'])"
   ]
  },
  {
   "cell_type": "code",
   "execution_count": 4,
   "id": "569dbf3a-4e44-47c1-be5d-946af7e34746",
   "metadata": {},
   "outputs": [
    {
     "data": {
      "text/html": [
       "<div>\n",
       "<style scoped>\n",
       "    .dataframe tbody tr th:only-of-type {\n",
       "        vertical-align: middle;\n",
       "    }\n",
       "\n",
       "    .dataframe tbody tr th {\n",
       "        vertical-align: top;\n",
       "    }\n",
       "\n",
       "    .dataframe thead th {\n",
       "        text-align: right;\n",
       "    }\n",
       "</style>\n",
       "<table border=\"1\" class=\"dataframe\">\n",
       "  <thead>\n",
       "    <tr style=\"text-align: right;\">\n",
       "      <th></th>\n",
       "      <th>document</th>\n",
       "      <th>label</th>\n",
       "    </tr>\n",
       "    <tr>\n",
       "      <th>id</th>\n",
       "      <th></th>\n",
       "      <th></th>\n",
       "    </tr>\n",
       "  </thead>\n",
       "  <tbody>\n",
       "    <tr>\n",
       "      <th>9976970</th>\n",
       "      <td>아 더빙.. 진짜 짜증나네요 목소리</td>\n",
       "      <td>0</td>\n",
       "    </tr>\n",
       "    <tr>\n",
       "      <th>3819312</th>\n",
       "      <td>흠...포스터보고 초딩영화줄....오버연기조차 가볍지 않구나</td>\n",
       "      <td>1</td>\n",
       "    </tr>\n",
       "    <tr>\n",
       "      <th>10265843</th>\n",
       "      <td>너무재밓었다그래서보는것을추천한다</td>\n",
       "      <td>0</td>\n",
       "    </tr>\n",
       "    <tr>\n",
       "      <th>9045019</th>\n",
       "      <td>교도소 이야기구먼 ..솔직히 재미는 없다..평점 조정</td>\n",
       "      <td>0</td>\n",
       "    </tr>\n",
       "    <tr>\n",
       "      <th>6483659</th>\n",
       "      <td>사이몬페그의 익살스런 연기가 돋보였던 영화!스파이더맨에서 늙어보이기만 했던 커스틴 ...</td>\n",
       "      <td>1</td>\n",
       "    </tr>\n",
       "    <tr>\n",
       "      <th>...</th>\n",
       "      <td>...</td>\n",
       "      <td>...</td>\n",
       "    </tr>\n",
       "    <tr>\n",
       "      <th>6222902</th>\n",
       "      <td>인간이 문제지.. 소는 뭔죄인가..</td>\n",
       "      <td>0</td>\n",
       "    </tr>\n",
       "    <tr>\n",
       "      <th>8549745</th>\n",
       "      <td>평점이 너무 낮아서...</td>\n",
       "      <td>1</td>\n",
       "    </tr>\n",
       "    <tr>\n",
       "      <th>9311800</th>\n",
       "      <td>이게 뭐요? 한국인은 거들먹거리고 필리핀 혼혈은 착하다?</td>\n",
       "      <td>0</td>\n",
       "    </tr>\n",
       "    <tr>\n",
       "      <th>2376369</th>\n",
       "      <td>청춘 영화의 최고봉.방황과 우울했던 날들의 자화상</td>\n",
       "      <td>1</td>\n",
       "    </tr>\n",
       "    <tr>\n",
       "      <th>9619869</th>\n",
       "      <td>한국 영화 최초로 수간하는 내용이 담긴 영화</td>\n",
       "      <td>0</td>\n",
       "    </tr>\n",
       "  </tbody>\n",
       "</table>\n",
       "<p>150000 rows × 2 columns</p>\n",
       "</div>"
      ],
      "text/plain": [
       "                                                   document label\n",
       "id                                                               \n",
       "9976970                                 아 더빙.. 진짜 짜증나네요 목소리     0\n",
       "3819312                   흠...포스터보고 초딩영화줄....오버연기조차 가볍지 않구나     1\n",
       "10265843                                  너무재밓었다그래서보는것을추천한다     0\n",
       "9045019                       교도소 이야기구먼 ..솔직히 재미는 없다..평점 조정     0\n",
       "6483659   사이몬페그의 익살스런 연기가 돋보였던 영화!스파이더맨에서 늙어보이기만 했던 커스틴 ...     1\n",
       "...                                                     ...   ...\n",
       "6222902                                 인간이 문제지.. 소는 뭔죄인가..     0\n",
       "8549745                                       평점이 너무 낮아서...     1\n",
       "9311800                     이게 뭐요? 한국인은 거들먹거리고 필리핀 혼혈은 착하다?     0\n",
       "2376369                         청춘 영화의 최고봉.방황과 우울했던 날들의 자화상     1\n",
       "9619869                            한국 영화 최초로 수간하는 내용이 담긴 영화     0\n",
       "\n",
       "[150000 rows x 2 columns]"
      ]
     },
     "execution_count": 4,
     "metadata": {},
     "output_type": "execute_result"
    }
   ],
   "source": [
    "train_set"
   ]
  },
  {
   "cell_type": "code",
   "execution_count": 5,
   "id": "0107f1af-143c-422a-b025-a25f8c0164ab",
   "metadata": {},
   "outputs": [],
   "source": [
    "train_set, val_set = train_test_split(\n",
    "    train_set, \n",
    "    test_size=0.3, \n",
    "    random_state=777, \n",
    "    stratify=train_set['label']\n",
    ")"
   ]
  },
  {
   "cell_type": "code",
   "execution_count": 6,
   "id": "92a0d9dd-46c0-4ebe-961a-49f5872fd74a",
   "metadata": {},
   "outputs": [
    {
     "data": {
      "text/html": [
       "<div>\n",
       "<style scoped>\n",
       "    .dataframe tbody tr th:only-of-type {\n",
       "        vertical-align: middle;\n",
       "    }\n",
       "\n",
       "    .dataframe tbody tr th {\n",
       "        vertical-align: top;\n",
       "    }\n",
       "\n",
       "    .dataframe thead th {\n",
       "        text-align: right;\n",
       "    }\n",
       "</style>\n",
       "<table border=\"1\" class=\"dataframe\">\n",
       "  <thead>\n",
       "    <tr style=\"text-align: right;\">\n",
       "      <th></th>\n",
       "      <th>document</th>\n",
       "      <th>label</th>\n",
       "    </tr>\n",
       "    <tr>\n",
       "      <th>id</th>\n",
       "      <th></th>\n",
       "      <th></th>\n",
       "    </tr>\n",
       "  </thead>\n",
       "  <tbody>\n",
       "    <tr>\n",
       "      <th>3546826</th>\n",
       "      <td>미스테리</td>\n",
       "      <td>0</td>\n",
       "    </tr>\n",
       "    <tr>\n",
       "      <th>10161639</th>\n",
       "      <td>뭐 말이 필요한가???</td>\n",
       "      <td>1</td>\n",
       "    </tr>\n",
       "    <tr>\n",
       "      <th>9295845</th>\n",
       "      <td>흠... 만든 이유를 모르겠음...</td>\n",
       "      <td>0</td>\n",
       "    </tr>\n",
       "    <tr>\n",
       "      <th>9868407</th>\n",
       "      <td>쓰래기영화 정우성 이건아닌되요</td>\n",
       "      <td>0</td>\n",
       "    </tr>\n",
       "    <tr>\n",
       "      <th>5374061</th>\n",
       "      <td>감각적인 영상속에 펼쳐지는 화끈한 액숀과 코믹 퍼레이드</td>\n",
       "      <td>1</td>\n",
       "    </tr>\n",
       "    <tr>\n",
       "      <th>...</th>\n",
       "      <td>...</td>\n",
       "      <td>...</td>\n",
       "    </tr>\n",
       "    <tr>\n",
       "      <th>3626259</th>\n",
       "      <td>아버지... 보물같은 영화.</td>\n",
       "      <td>1</td>\n",
       "    </tr>\n",
       "    <tr>\n",
       "      <th>9274666</th>\n",
       "      <td>난 진짜 뻥안치고 별로엿음...주온1편이 너무 충격적이어서..기대치를 못채운듯..</td>\n",
       "      <td>0</td>\n",
       "    </tr>\n",
       "    <tr>\n",
       "      <th>6594162</th>\n",
       "      <td>이거보고재밋다고한혹우잇는가?</td>\n",
       "      <td>0</td>\n",
       "    </tr>\n",
       "    <tr>\n",
       "      <th>4618421</th>\n",
       "      <td>달콤한 그들의 노래 그러나,그냥 TV 30분 다큐로 했으면 좋았을 것을...</td>\n",
       "      <td>0</td>\n",
       "    </tr>\n",
       "    <tr>\n",
       "      <th>9707376</th>\n",
       "      <td>왕치아즈를 무너지게 만든 한마디. 양조위의 그 눈빛, 손길.</td>\n",
       "      <td>1</td>\n",
       "    </tr>\n",
       "  </tbody>\n",
       "</table>\n",
       "<p>105000 rows × 2 columns</p>\n",
       "</div>"
      ],
      "text/plain": [
       "                                               document label\n",
       "id                                                           \n",
       "3546826                                            미스테리     0\n",
       "10161639                                   뭐 말이 필요한가???     1\n",
       "9295845                             흠... 만든 이유를 모르겠음...     0\n",
       "9868407                                쓰래기영화 정우성 이건아닌되요     0\n",
       "5374061                  감각적인 영상속에 펼쳐지는 화끈한 액숀과 코믹 퍼레이드     1\n",
       "...                                                 ...   ...\n",
       "3626259                                 아버지... 보물같은 영화.     1\n",
       "9274666   난 진짜 뻥안치고 별로엿음...주온1편이 너무 충격적이어서..기대치를 못채운듯..     0\n",
       "6594162                                 이거보고재밋다고한혹우잇는가?     0\n",
       "4618421      달콤한 그들의 노래 그러나,그냥 TV 30분 다큐로 했으면 좋았을 것을...     0\n",
       "9707376               왕치아즈를 무너지게 만든 한마디. 양조위의 그 눈빛, 손길.     1\n",
       "\n",
       "[105000 rows x 2 columns]"
      ]
     },
     "execution_count": 6,
     "metadata": {},
     "output_type": "execute_result"
    }
   ],
   "source": [
    "train_set"
   ]
  },
  {
   "cell_type": "code",
   "execution_count": 7,
   "id": "072a9c2d-0543-4574-b3c8-c7ad5218d40c",
   "metadata": {},
   "outputs": [
    {
     "data": {
      "text/html": [
       "<div>\n",
       "<style scoped>\n",
       "    .dataframe tbody tr th:only-of-type {\n",
       "        vertical-align: middle;\n",
       "    }\n",
       "\n",
       "    .dataframe tbody tr th {\n",
       "        vertical-align: top;\n",
       "    }\n",
       "\n",
       "    .dataframe thead th {\n",
       "        text-align: right;\n",
       "    }\n",
       "</style>\n",
       "<table border=\"1\" class=\"dataframe\">\n",
       "  <thead>\n",
       "    <tr style=\"text-align: right;\">\n",
       "      <th></th>\n",
       "      <th>document</th>\n",
       "      <th>label</th>\n",
       "    </tr>\n",
       "    <tr>\n",
       "      <th>id</th>\n",
       "      <th></th>\n",
       "      <th></th>\n",
       "    </tr>\n",
       "  </thead>\n",
       "  <tbody>\n",
       "    <tr>\n",
       "      <th>10175148</th>\n",
       "      <td>저렇게 근로자의 노동권이 처참히 유린당하는데.. 왜 노동자들은 화를 내지 못하는걸까?</td>\n",
       "      <td>1</td>\n",
       "    </tr>\n",
       "    <tr>\n",
       "      <th>2810310</th>\n",
       "      <td>정말 유쾌함에정신을 놓았다영화 아님 이런 기분 못 느껴 볼껄그만큼 존재가치도 높다</td>\n",
       "      <td>1</td>\n",
       "    </tr>\n",
       "    <tr>\n",
       "      <th>5407585</th>\n",
       "      <td>영화관 가서 본거는 귀썩고 나래이션 쓰래긴데 KBS에서 하고있는건 완전 신기</td>\n",
       "      <td>0</td>\n",
       "    </tr>\n",
       "    <tr>\n",
       "      <th>9808055</th>\n",
       "      <td>네이버 평점에 심하게 낚였다. 보는 내내 지루해서 끌까말까 망설였는데..</td>\n",
       "      <td>0</td>\n",
       "    </tr>\n",
       "    <tr>\n",
       "      <th>6862407</th>\n",
       "      <td>내가 알던 택시가 맞나 싶은 영화 유머코드도 전혀 나랑 매치도 안되는 것 같고 여러...</td>\n",
       "      <td>0</td>\n",
       "    </tr>\n",
       "    <tr>\n",
       "      <th>...</th>\n",
       "      <td>...</td>\n",
       "      <td>...</td>\n",
       "    </tr>\n",
       "    <tr>\n",
       "      <th>5786109</th>\n",
       "      <td>우리에게 굵직한 지혜들을 건네는 너무나 멋진 영화</td>\n",
       "      <td>1</td>\n",
       "    </tr>\n",
       "    <tr>\n",
       "      <th>6326336</th>\n",
       "      <td>막장인생 바니 결국 사랑으로 구원 받고,죽음으로 용서받았다.</td>\n",
       "      <td>1</td>\n",
       "    </tr>\n",
       "    <tr>\n",
       "      <th>9339957</th>\n",
       "      <td>링과 더불어 일본공포물에는 가장 잼나게 본 영화. 벨소리가 상당한 공포감을 조성한다.</td>\n",
       "      <td>1</td>\n",
       "    </tr>\n",
       "    <tr>\n",
       "      <th>8038339</th>\n",
       "      <td>노잼 뒤처리안한느낌의 찝찝함과 쓸대없이너무짧은 러닝타임</td>\n",
       "      <td>0</td>\n",
       "    </tr>\n",
       "    <tr>\n",
       "      <th>3276814</th>\n",
       "      <td>저런 극적인 삶을원한다면 배부른소리겠지...</td>\n",
       "      <td>1</td>\n",
       "    </tr>\n",
       "  </tbody>\n",
       "</table>\n",
       "<p>45000 rows × 2 columns</p>\n",
       "</div>"
      ],
      "text/plain": [
       "                                                   document label\n",
       "id                                                               \n",
       "10175148    저렇게 근로자의 노동권이 처참히 유린당하는데.. 왜 노동자들은 화를 내지 못하는걸까?     1\n",
       "2810310       정말 유쾌함에정신을 놓았다영화 아님 이런 기분 못 느껴 볼껄그만큼 존재가치도 높다     1\n",
       "5407585          영화관 가서 본거는 귀썩고 나래이션 쓰래긴데 KBS에서 하고있는건 완전 신기     0\n",
       "9808055            네이버 평점에 심하게 낚였다. 보는 내내 지루해서 끌까말까 망설였는데..     0\n",
       "6862407   내가 알던 택시가 맞나 싶은 영화 유머코드도 전혀 나랑 매치도 안되는 것 같고 여러...     0\n",
       "...                                                     ...   ...\n",
       "5786109                         우리에게 굵직한 지혜들을 건네는 너무나 멋진 영화     1\n",
       "6326336                   막장인생 바니 결국 사랑으로 구원 받고,죽음으로 용서받았다.     1\n",
       "9339957     링과 더불어 일본공포물에는 가장 잼나게 본 영화. 벨소리가 상당한 공포감을 조성한다.     1\n",
       "8038339                      노잼 뒤처리안한느낌의 찝찝함과 쓸대없이너무짧은 러닝타임     0\n",
       "3276814                            저런 극적인 삶을원한다면 배부른소리겠지...     1\n",
       "\n",
       "[45000 rows x 2 columns]"
      ]
     },
     "execution_count": 7,
     "metadata": {},
     "output_type": "execute_result"
    }
   ],
   "source": [
    "val_set"
   ]
  },
  {
   "cell_type": "code",
   "execution_count": 8,
   "id": "bf2328b5-c62b-4f4b-ab08-3ae1cad000ed",
   "metadata": {},
   "outputs": [],
   "source": [
    "test_set =  utils.parse_nmsc_txt_to_dataframe(config['test_url'])"
   ]
  },
  {
   "cell_type": "code",
   "execution_count": 9,
   "id": "a7b716a5-d7be-44fa-a908-3bbe02ace1f6",
   "metadata": {},
   "outputs": [
    {
     "data": {
      "text/html": [
       "<div>\n",
       "<style scoped>\n",
       "    .dataframe tbody tr th:only-of-type {\n",
       "        vertical-align: middle;\n",
       "    }\n",
       "\n",
       "    .dataframe tbody tr th {\n",
       "        vertical-align: top;\n",
       "    }\n",
       "\n",
       "    .dataframe thead th {\n",
       "        text-align: right;\n",
       "    }\n",
       "</style>\n",
       "<table border=\"1\" class=\"dataframe\">\n",
       "  <thead>\n",
       "    <tr style=\"text-align: right;\">\n",
       "      <th></th>\n",
       "      <th>document</th>\n",
       "      <th>label</th>\n",
       "    </tr>\n",
       "    <tr>\n",
       "      <th>id</th>\n",
       "      <th></th>\n",
       "      <th></th>\n",
       "    </tr>\n",
       "  </thead>\n",
       "  <tbody>\n",
       "    <tr>\n",
       "      <th>6270596</th>\n",
       "      <td>굳 ㅋ</td>\n",
       "      <td>1</td>\n",
       "    </tr>\n",
       "    <tr>\n",
       "      <th>9274899</th>\n",
       "      <td>GDNTOPCLASSINTHECLUB</td>\n",
       "      <td>0</td>\n",
       "    </tr>\n",
       "    <tr>\n",
       "      <th>8544678</th>\n",
       "      <td>뭐야 이 평점들은.... 나쁘진 않지만 10점 짜리는 더더욱 아니잖아</td>\n",
       "      <td>0</td>\n",
       "    </tr>\n",
       "    <tr>\n",
       "      <th>6825595</th>\n",
       "      <td>지루하지는 않은데 완전 막장임... 돈주고 보기에는....</td>\n",
       "      <td>0</td>\n",
       "    </tr>\n",
       "    <tr>\n",
       "      <th>6723715</th>\n",
       "      <td>3D만 아니었어도 별 다섯 개 줬을텐데.. 왜 3D로 나와서 제 심기를 불편하게 하죠??</td>\n",
       "      <td>0</td>\n",
       "    </tr>\n",
       "    <tr>\n",
       "      <th>...</th>\n",
       "      <td>...</td>\n",
       "      <td>...</td>\n",
       "    </tr>\n",
       "    <tr>\n",
       "      <th>4608761</th>\n",
       "      <td>오랜만에 평점 로긴했네ㅋㅋ 킹왕짱 쌈뽕한 영화를 만났습니다 강렬하게 육쾌함</td>\n",
       "      <td>1</td>\n",
       "    </tr>\n",
       "    <tr>\n",
       "      <th>5308387</th>\n",
       "      <td>의지 박약들이나 하는거다 탈영은 일단 주인공 김대희 닮았고 이등병 찐따 OOOO</td>\n",
       "      <td>0</td>\n",
       "    </tr>\n",
       "    <tr>\n",
       "      <th>9072549</th>\n",
       "      <td>그림도 좋고 완성도도 높았지만... 보는 내내 불안하게 만든다</td>\n",
       "      <td>0</td>\n",
       "    </tr>\n",
       "    <tr>\n",
       "      <th>5802125</th>\n",
       "      <td>절대 봐서는 안 될 영화.. 재미도 없고 기분만 잡치고.. 한 세트장에서 다 해먹네</td>\n",
       "      <td>0</td>\n",
       "    </tr>\n",
       "    <tr>\n",
       "      <th>6070594</th>\n",
       "      <td>마무리는 또 왜이래</td>\n",
       "      <td>0</td>\n",
       "    </tr>\n",
       "  </tbody>\n",
       "</table>\n",
       "<p>50000 rows × 2 columns</p>\n",
       "</div>"
      ],
      "text/plain": [
       "                                                  document label\n",
       "id                                                              \n",
       "6270596                                                굳 ㅋ     1\n",
       "9274899                               GDNTOPCLASSINTHECLUB     0\n",
       "8544678             뭐야 이 평점들은.... 나쁘진 않지만 10점 짜리는 더더욱 아니잖아     0\n",
       "6825595                   지루하지는 않은데 완전 막장임... 돈주고 보기에는....     0\n",
       "6723715  3D만 아니었어도 별 다섯 개 줬을텐데.. 왜 3D로 나와서 제 심기를 불편하게 하죠??     0\n",
       "...                                                    ...   ...\n",
       "4608761          오랜만에 평점 로긴했네ㅋㅋ 킹왕짱 쌈뽕한 영화를 만났습니다 강렬하게 육쾌함     1\n",
       "5308387       의지 박약들이나 하는거다 탈영은 일단 주인공 김대희 닮았고 이등병 찐따 OOOO     0\n",
       "9072549                 그림도 좋고 완성도도 높았지만... 보는 내내 불안하게 만든다     0\n",
       "5802125     절대 봐서는 안 될 영화.. 재미도 없고 기분만 잡치고.. 한 세트장에서 다 해먹네     0\n",
       "6070594                                         마무리는 또 왜이래     0\n",
       "\n",
       "[50000 rows x 2 columns]"
      ]
     },
     "execution_count": 9,
     "metadata": {},
     "output_type": "execute_result"
    }
   ],
   "source": [
    "test_set"
   ]
  },
  {
   "cell_type": "markdown",
   "id": "e66866d0-9ceb-472a-a12f-1dd071aa1c12",
   "metadata": {
    "tags": []
   },
   "source": [
    "### MeCab"
   ]
  },
  {
   "cell_type": "code",
   "execution_count": 10,
   "id": "50dbef08-4050-4a6c-a983-c1090320e94d",
   "metadata": {},
   "outputs": [],
   "source": [
    "mecab = MeCab()"
   ]
  },
  {
   "cell_type": "markdown",
   "id": "f8da3145-c7d8-4fcc-807f-e9bc3f687068",
   "metadata": {
    "tags": []
   },
   "source": [
    "### fastText\n",
    "\n",
    "- TODO: Download the pre-trained files from url\n",
    "- Download them from https://ratsgo.github.io/embedding/downloaddata.html"
   ]
  },
  {
   "cell_type": "code",
   "execution_count": 11,
   "id": "9cb72dd2-36df-4a95-9a12-51724923fc6d",
   "metadata": {},
   "outputs": [
    {
     "name": "stderr",
     "output_type": "stream",
     "text": [
      "Warning : `load_model` does not return WordVectorModel or SupervisedModel any more, but a `FastText` object which is very similar.\n"
     ]
    }
   ],
   "source": [
    "model = fasttext.load_model(config['pretrained_bin'])"
   ]
  },
  {
   "cell_type": "markdown",
   "id": "ba6d9c1e-7c33-42bb-a890-069c0541f624",
   "metadata": {},
   "source": [
    "#### E.g., ten tokens"
   ]
  },
  {
   "cell_type": "code",
   "execution_count": 12,
   "id": "d341e8aa-4477-416d-bbfc-ea11238ee97b",
   "metadata": {},
   "outputs": [
    {
     "data": {
      "text/plain": [
       "['1', '.', '0', '2', '의', ',', '이', '는', '다', ')']"
      ]
     },
     "execution_count": 12,
     "metadata": {},
     "output_type": "execute_result"
    }
   ],
   "source": [
    "model.words[:10]"
   ]
  },
  {
   "cell_type": "markdown",
   "id": "8f40f888-241f-4075-84f9-4d4d54e7d2dc",
   "metadata": {},
   "source": [
    "## Morpheme Analysis\n",
    "\n",
    "- fastText tokenizes based on spacing by default\n",
    "- But it's difficult to reflect the meaning if we tokenize Korean corpus based on spacing because Korean is belongs to an agglutinative language\n",
    "- So it’s more appropriate to tokenize it based on morphemes if we’re dealing with Korean"
   ]
  },
  {
   "cell_type": "markdown",
   "id": "fda73fc1-c019-4572-98fa-0d01dd104815",
   "metadata": {},
   "source": [
    "### Named Entity Normalization\n",
    "\n",
    "- Proper nouns are one of the parts of speech where a lot of new words appears\n",
    "- E.g., person names, ...\n",
    "- That's why I implemented the normalization below\n",
    "- However, there is a lot of words with strong ambiguity in the person name dictionary provided by default in MeCab\n",
    "- So it may be more appropriate to remove the default person name dictionary and build a new one ourselves in terms of disambiguation if we can obtain a list of people names"
   ]
  },
  {
   "cell_type": "code",
   "execution_count": 13,
   "id": "0aa3eefc-9562-4935-bf54-06503fb7a9b5",
   "metadata": {},
   "outputs": [],
   "source": [
    "def normalize_person_names(x):\n",
    "    morphemes = mecab.parse(x)\n",
    "    result = x\n",
    "    \n",
    "    for idx, morpheme in enumerate(morphemes):\n",
    "        if morpheme[1].semantic != '인명': continue        \n",
    "        result = result.replace(\n",
    "            morpheme[0], \n",
    "            '사람', \n",
    "            1\n",
    "        )\n",
    "        \n",
    "    result = ' '.join(mecab.morphs(result))\n",
    "        \n",
    "    return result\n",
    "\n",
    "def analyze(documents):\n",
    "    return documents.parallel_apply(\n",
    "        lambda x: normalize_person_names(x)\n",
    "    )"
   ]
  },
  {
   "cell_type": "code",
   "execution_count": 14,
   "id": "7d88148d-e929-4de9-996e-c1cd4e485c27",
   "metadata": {},
   "outputs": [
    {
     "data": {
      "application/vnd.jupyter.widget-view+json": {
       "model_id": "6c40530cdc694bd3bc3ae02b8b16548a",
       "version_major": 2,
       "version_minor": 0
      },
      "text/plain": [
       "VBox(children=(HBox(children=(IntProgress(value=0, description='0.00%', max=3282), Label(value='0 / 3282'))), …"
      ]
     },
     "metadata": {},
     "output_type": "display_data"
    }
   ],
   "source": [
    "train_set.insert(train_set.shape[1], 'morphemes', analyze(train_set['document']))"
   ]
  },
  {
   "cell_type": "code",
   "execution_count": 15,
   "id": "a9ffe1ad-eaad-48cb-bb25-80d11c4bdb08",
   "metadata": {},
   "outputs": [
    {
     "data": {
      "text/html": [
       "<div>\n",
       "<style scoped>\n",
       "    .dataframe tbody tr th:only-of-type {\n",
       "        vertical-align: middle;\n",
       "    }\n",
       "\n",
       "    .dataframe tbody tr th {\n",
       "        vertical-align: top;\n",
       "    }\n",
       "\n",
       "    .dataframe thead th {\n",
       "        text-align: right;\n",
       "    }\n",
       "</style>\n",
       "<table border=\"1\" class=\"dataframe\">\n",
       "  <thead>\n",
       "    <tr style=\"text-align: right;\">\n",
       "      <th></th>\n",
       "      <th>document</th>\n",
       "      <th>label</th>\n",
       "      <th>morphemes</th>\n",
       "    </tr>\n",
       "    <tr>\n",
       "      <th>id</th>\n",
       "      <th></th>\n",
       "      <th></th>\n",
       "      <th></th>\n",
       "    </tr>\n",
       "  </thead>\n",
       "  <tbody>\n",
       "    <tr>\n",
       "      <th>3546826</th>\n",
       "      <td>미스테리</td>\n",
       "      <td>0</td>\n",
       "      <td>미스테리</td>\n",
       "    </tr>\n",
       "    <tr>\n",
       "      <th>10161639</th>\n",
       "      <td>뭐 말이 필요한가???</td>\n",
       "      <td>1</td>\n",
       "      <td>뭐 말 이 필요 한가 ? ??</td>\n",
       "    </tr>\n",
       "    <tr>\n",
       "      <th>9295845</th>\n",
       "      <td>흠... 만든 이유를 모르겠음...</td>\n",
       "      <td>0</td>\n",
       "      <td>흠 . .. 만든 이유 를 모르 겠 음 . ..</td>\n",
       "    </tr>\n",
       "    <tr>\n",
       "      <th>9868407</th>\n",
       "      <td>쓰래기영화 정우성 이건아닌되요</td>\n",
       "      <td>0</td>\n",
       "      <td>쓰래 사람 사람 이건 아닌 되 요</td>\n",
       "    </tr>\n",
       "    <tr>\n",
       "      <th>5374061</th>\n",
       "      <td>감각적인 영상속에 펼쳐지는 화끈한 액숀과 코믹 퍼레이드</td>\n",
       "      <td>1</td>\n",
       "      <td>감각 적 인 영상 속 에 펼쳐지 는 화끈 한 액 사람 과 코믹 퍼레이드</td>\n",
       "    </tr>\n",
       "    <tr>\n",
       "      <th>...</th>\n",
       "      <td>...</td>\n",
       "      <td>...</td>\n",
       "      <td>...</td>\n",
       "    </tr>\n",
       "    <tr>\n",
       "      <th>3626259</th>\n",
       "      <td>아버지... 보물같은 영화.</td>\n",
       "      <td>1</td>\n",
       "      <td>아버지 . .. 보물 같 은 영화 .</td>\n",
       "    </tr>\n",
       "    <tr>\n",
       "      <th>9274666</th>\n",
       "      <td>난 진짜 뻥안치고 별로엿음...주온1편이 너무 충격적이어서..기대치를 못채운듯..</td>\n",
       "      <td>0</td>\n",
       "      <td>난 진짜 뻥 안 치 고 별로 엿 음 . .. 주온 1 편 이 너무 충격 적 이 어서...</td>\n",
       "    </tr>\n",
       "    <tr>\n",
       "      <th>6594162</th>\n",
       "      <td>이거보고재밋다고한혹우잇는가?</td>\n",
       "      <td>0</td>\n",
       "      <td>이거 보고 재 밋 다고 한 혹우 잇 는가 ?</td>\n",
       "    </tr>\n",
       "    <tr>\n",
       "      <th>4618421</th>\n",
       "      <td>달콤한 그들의 노래 그러나,그냥 TV 30분 다큐로 했으면 좋았을 것을...</td>\n",
       "      <td>0</td>\n",
       "      <td>달콤 한 그 들 의 노래 그러나 , 그냥 TV 30 분 다큐 로 했 으면 좋 았 을...</td>\n",
       "    </tr>\n",
       "    <tr>\n",
       "      <th>9707376</th>\n",
       "      <td>왕치아즈를 무너지게 만든 한마디. 양조위의 그 눈빛, 손길.</td>\n",
       "      <td>1</td>\n",
       "      <td>왕치 사람 를 무너지 게 만든 한마디 . 사람 의 그 눈빛 , 손길 .</td>\n",
       "    </tr>\n",
       "  </tbody>\n",
       "</table>\n",
       "<p>105000 rows × 3 columns</p>\n",
       "</div>"
      ],
      "text/plain": [
       "                                               document label  \\\n",
       "id                                                              \n",
       "3546826                                            미스테리     0   \n",
       "10161639                                   뭐 말이 필요한가???     1   \n",
       "9295845                             흠... 만든 이유를 모르겠음...     0   \n",
       "9868407                                쓰래기영화 정우성 이건아닌되요     0   \n",
       "5374061                  감각적인 영상속에 펼쳐지는 화끈한 액숀과 코믹 퍼레이드     1   \n",
       "...                                                 ...   ...   \n",
       "3626259                                 아버지... 보물같은 영화.     1   \n",
       "9274666   난 진짜 뻥안치고 별로엿음...주온1편이 너무 충격적이어서..기대치를 못채운듯..     0   \n",
       "6594162                                 이거보고재밋다고한혹우잇는가?     0   \n",
       "4618421      달콤한 그들의 노래 그러나,그냥 TV 30분 다큐로 했으면 좋았을 것을...     0   \n",
       "9707376               왕치아즈를 무너지게 만든 한마디. 양조위의 그 눈빛, 손길.     1   \n",
       "\n",
       "                                                  morphemes  \n",
       "id                                                           \n",
       "3546826                                                미스테리  \n",
       "10161639                                   뭐 말 이 필요 한가 ? ??  \n",
       "9295845                          흠 . .. 만든 이유 를 모르 겠 음 . ..  \n",
       "9868407                                  쓰래 사람 사람 이건 아닌 되 요  \n",
       "5374061             감각 적 인 영상 속 에 펼쳐지 는 화끈 한 액 사람 과 코믹 퍼레이드  \n",
       "...                                                     ...  \n",
       "3626259                                아버지 . .. 보물 같 은 영화 .  \n",
       "9274666   난 진짜 뻥 안 치 고 별로 엿 음 . .. 주온 1 편 이 너무 충격 적 이 어서...  \n",
       "6594162                            이거 보고 재 밋 다고 한 혹우 잇 는가 ?  \n",
       "4618421   달콤 한 그 들 의 노래 그러나 , 그냥 TV 30 분 다큐 로 했 으면 좋 았 을...  \n",
       "9707376             왕치 사람 를 무너지 게 만든 한마디 . 사람 의 그 눈빛 , 손길 .  \n",
       "\n",
       "[105000 rows x 3 columns]"
      ]
     },
     "execution_count": 15,
     "metadata": {},
     "output_type": "execute_result"
    }
   ],
   "source": [
    "train_set"
   ]
  },
  {
   "cell_type": "code",
   "execution_count": 16,
   "id": "a97fc9bd-b91a-4dc1-89dc-ed9a2555faca",
   "metadata": {},
   "outputs": [
    {
     "data": {
      "application/vnd.jupyter.widget-view+json": {
       "model_id": "0c98fce5a3ce418d9213872a5aea42d5",
       "version_major": 2,
       "version_minor": 0
      },
      "text/plain": [
       "VBox(children=(HBox(children=(IntProgress(value=0, description='0.00%', max=1407), Label(value='0 / 1407'))), …"
      ]
     },
     "metadata": {},
     "output_type": "display_data"
    }
   ],
   "source": [
    "val_set.insert(val_set.shape[1], 'morphemes', analyze(val_set['document']))"
   ]
  },
  {
   "cell_type": "code",
   "execution_count": 17,
   "id": "f1d82c3e-e3e9-4844-bffa-56596ff555f1",
   "metadata": {},
   "outputs": [
    {
     "data": {
      "text/html": [
       "<div>\n",
       "<style scoped>\n",
       "    .dataframe tbody tr th:only-of-type {\n",
       "        vertical-align: middle;\n",
       "    }\n",
       "\n",
       "    .dataframe tbody tr th {\n",
       "        vertical-align: top;\n",
       "    }\n",
       "\n",
       "    .dataframe thead th {\n",
       "        text-align: right;\n",
       "    }\n",
       "</style>\n",
       "<table border=\"1\" class=\"dataframe\">\n",
       "  <thead>\n",
       "    <tr style=\"text-align: right;\">\n",
       "      <th></th>\n",
       "      <th>document</th>\n",
       "      <th>label</th>\n",
       "      <th>morphemes</th>\n",
       "    </tr>\n",
       "    <tr>\n",
       "      <th>id</th>\n",
       "      <th></th>\n",
       "      <th></th>\n",
       "      <th></th>\n",
       "    </tr>\n",
       "  </thead>\n",
       "  <tbody>\n",
       "    <tr>\n",
       "      <th>10175148</th>\n",
       "      <td>저렇게 근로자의 노동권이 처참히 유린당하는데.. 왜 노동자들은 화를 내지 못하는걸까?</td>\n",
       "      <td>1</td>\n",
       "      <td>저렇게 근로자 의 노동 권 이 처참히 유린 당하 는데 . . 왜 노동자 들 은 화 ...</td>\n",
       "    </tr>\n",
       "    <tr>\n",
       "      <th>2810310</th>\n",
       "      <td>정말 유쾌함에정신을 놓았다영화 아님 이런 기분 못 느껴 볼껄그만큼 존재가치도 높다</td>\n",
       "      <td>1</td>\n",
       "      <td>정말 유쾌 함 에 정신 을 놓 았 다 영화 아님 이런 기분 못 느껴 볼 껄 그만큼 ...</td>\n",
       "    </tr>\n",
       "    <tr>\n",
       "      <th>5407585</th>\n",
       "      <td>영화관 가서 본거는 귀썩고 나래이션 쓰래긴데 KBS에서 하고있는건 완전 신기</td>\n",
       "      <td>0</td>\n",
       "      <td>영화관 가 서 본 거 는 귀 썩 고 나래 이 션 쓰래 긴데 KBS 에서 하 고 있 ...</td>\n",
       "    </tr>\n",
       "    <tr>\n",
       "      <th>9808055</th>\n",
       "      <td>네이버 평점에 심하게 낚였다. 보는 내내 지루해서 끌까말까 망설였는데..</td>\n",
       "      <td>0</td>\n",
       "      <td>네이버 평점 에 심하 게 낚였 다 . 보 는 내내 지루 해서 끌 까말까 망설였 는데...</td>\n",
       "    </tr>\n",
       "    <tr>\n",
       "      <th>6862407</th>\n",
       "      <td>내가 알던 택시가 맞나 싶은 영화 유머코드도 전혀 나랑 매치도 안되는 것 같고 여러...</td>\n",
       "      <td>0</td>\n",
       "      <td>내 가 알 던 택시 가 맞 나 싶 은 영화 유머 코드 도 전혀 나 랑 매치 도 안 ...</td>\n",
       "    </tr>\n",
       "    <tr>\n",
       "      <th>...</th>\n",
       "      <td>...</td>\n",
       "      <td>...</td>\n",
       "      <td>...</td>\n",
       "    </tr>\n",
       "    <tr>\n",
       "      <th>5786109</th>\n",
       "      <td>우리에게 굵직한 지혜들을 건네는 너무나 멋진 영화</td>\n",
       "      <td>1</td>\n",
       "      <td>우리 에게 굵직 한 지혜 들 을 건네 는 너무나 멋진 영화</td>\n",
       "    </tr>\n",
       "    <tr>\n",
       "      <th>6326336</th>\n",
       "      <td>막장인생 바니 결국 사랑으로 구원 받고,죽음으로 용서받았다.</td>\n",
       "      <td>1</td>\n",
       "      <td>막장 인생 사람 결국 사랑 으로 구원 받 고 , 죽음 으로 용서 받 았 다 .</td>\n",
       "    </tr>\n",
       "    <tr>\n",
       "      <th>9339957</th>\n",
       "      <td>링과 더불어 일본공포물에는 가장 잼나게 본 영화. 벨소리가 상당한 공포감을 조성한다.</td>\n",
       "      <td>1</td>\n",
       "      <td>링 과 더불 어 일본 공포물 에 는 가장 잼 나 게 본 영화 . 벨소리 가 상당 한...</td>\n",
       "    </tr>\n",
       "    <tr>\n",
       "      <th>8038339</th>\n",
       "      <td>노잼 뒤처리안한느낌의 찝찝함과 쓸대없이너무짧은 러닝타임</td>\n",
       "      <td>0</td>\n",
       "      <td>사람 잼 뒤처리 안 한 느낌 의 찝찝 함 과 쓸 대 없이 너무 짧 은 러닝 타임</td>\n",
       "    </tr>\n",
       "    <tr>\n",
       "      <th>3276814</th>\n",
       "      <td>저런 극적인 삶을원한다면 배부른소리겠지...</td>\n",
       "      <td>1</td>\n",
       "      <td>저런 극 적 인 삶 을 원한다면 배부른 소리 겠 지 . ..</td>\n",
       "    </tr>\n",
       "  </tbody>\n",
       "</table>\n",
       "<p>45000 rows × 3 columns</p>\n",
       "</div>"
      ],
      "text/plain": [
       "                                                   document label  \\\n",
       "id                                                                  \n",
       "10175148    저렇게 근로자의 노동권이 처참히 유린당하는데.. 왜 노동자들은 화를 내지 못하는걸까?     1   \n",
       "2810310       정말 유쾌함에정신을 놓았다영화 아님 이런 기분 못 느껴 볼껄그만큼 존재가치도 높다     1   \n",
       "5407585          영화관 가서 본거는 귀썩고 나래이션 쓰래긴데 KBS에서 하고있는건 완전 신기     0   \n",
       "9808055            네이버 평점에 심하게 낚였다. 보는 내내 지루해서 끌까말까 망설였는데..     0   \n",
       "6862407   내가 알던 택시가 맞나 싶은 영화 유머코드도 전혀 나랑 매치도 안되는 것 같고 여러...     0   \n",
       "...                                                     ...   ...   \n",
       "5786109                         우리에게 굵직한 지혜들을 건네는 너무나 멋진 영화     1   \n",
       "6326336                   막장인생 바니 결국 사랑으로 구원 받고,죽음으로 용서받았다.     1   \n",
       "9339957     링과 더불어 일본공포물에는 가장 잼나게 본 영화. 벨소리가 상당한 공포감을 조성한다.     1   \n",
       "8038339                      노잼 뒤처리안한느낌의 찝찝함과 쓸대없이너무짧은 러닝타임     0   \n",
       "3276814                            저런 극적인 삶을원한다면 배부른소리겠지...     1   \n",
       "\n",
       "                                                  morphemes  \n",
       "id                                                           \n",
       "10175148  저렇게 근로자 의 노동 권 이 처참히 유린 당하 는데 . . 왜 노동자 들 은 화 ...  \n",
       "2810310   정말 유쾌 함 에 정신 을 놓 았 다 영화 아님 이런 기분 못 느껴 볼 껄 그만큼 ...  \n",
       "5407585   영화관 가 서 본 거 는 귀 썩 고 나래 이 션 쓰래 긴데 KBS 에서 하 고 있 ...  \n",
       "9808055   네이버 평점 에 심하 게 낚였 다 . 보 는 내내 지루 해서 끌 까말까 망설였 는데...  \n",
       "6862407   내 가 알 던 택시 가 맞 나 싶 은 영화 유머 코드 도 전혀 나 랑 매치 도 안 ...  \n",
       "...                                                     ...  \n",
       "5786109                    우리 에게 굵직 한 지혜 들 을 건네 는 너무나 멋진 영화  \n",
       "6326336         막장 인생 사람 결국 사랑 으로 구원 받 고 , 죽음 으로 용서 받 았 다 .  \n",
       "9339957   링 과 더불 어 일본 공포물 에 는 가장 잼 나 게 본 영화 . 벨소리 가 상당 한...  \n",
       "8038339        사람 잼 뒤처리 안 한 느낌 의 찝찝 함 과 쓸 대 없이 너무 짧 은 러닝 타임  \n",
       "3276814                   저런 극 적 인 삶 을 원한다면 배부른 소리 겠 지 . ..  \n",
       "\n",
       "[45000 rows x 3 columns]"
      ]
     },
     "execution_count": 17,
     "metadata": {},
     "output_type": "execute_result"
    }
   ],
   "source": [
    "val_set"
   ]
  },
  {
   "cell_type": "code",
   "execution_count": 18,
   "id": "241fd856-8c38-447c-9b76-239f6b3bd845",
   "metadata": {},
   "outputs": [
    {
     "data": {
      "application/vnd.jupyter.widget-view+json": {
       "model_id": "bd1a09196c93414685d9571340a321a1",
       "version_major": 2,
       "version_minor": 0
      },
      "text/plain": [
       "VBox(children=(HBox(children=(IntProgress(value=0, description='0.00%', max=1563), Label(value='0 / 1563'))), …"
      ]
     },
     "metadata": {},
     "output_type": "display_data"
    }
   ],
   "source": [
    "test_set.insert(test_set.shape[1], 'morphemes', analyze(test_set['document']))"
   ]
  },
  {
   "cell_type": "code",
   "execution_count": 19,
   "id": "934ac3c9-470e-4738-aefd-36d1feb20771",
   "metadata": {},
   "outputs": [
    {
     "data": {
      "text/html": [
       "<div>\n",
       "<style scoped>\n",
       "    .dataframe tbody tr th:only-of-type {\n",
       "        vertical-align: middle;\n",
       "    }\n",
       "\n",
       "    .dataframe tbody tr th {\n",
       "        vertical-align: top;\n",
       "    }\n",
       "\n",
       "    .dataframe thead th {\n",
       "        text-align: right;\n",
       "    }\n",
       "</style>\n",
       "<table border=\"1\" class=\"dataframe\">\n",
       "  <thead>\n",
       "    <tr style=\"text-align: right;\">\n",
       "      <th></th>\n",
       "      <th>document</th>\n",
       "      <th>label</th>\n",
       "      <th>morphemes</th>\n",
       "    </tr>\n",
       "    <tr>\n",
       "      <th>id</th>\n",
       "      <th></th>\n",
       "      <th></th>\n",
       "      <th></th>\n",
       "    </tr>\n",
       "  </thead>\n",
       "  <tbody>\n",
       "    <tr>\n",
       "      <th>6270596</th>\n",
       "      <td>굳 ㅋ</td>\n",
       "      <td>1</td>\n",
       "      <td>굳 ㅋ</td>\n",
       "    </tr>\n",
       "    <tr>\n",
       "      <th>9274899</th>\n",
       "      <td>GDNTOPCLASSINTHECLUB</td>\n",
       "      <td>0</td>\n",
       "      <td>GDNTOPCLASSINTHECLUB</td>\n",
       "    </tr>\n",
       "    <tr>\n",
       "      <th>8544678</th>\n",
       "      <td>뭐야 이 평점들은.... 나쁘진 않지만 10점 짜리는 더더욱 아니잖아</td>\n",
       "      <td>0</td>\n",
       "      <td>뭐 야 이 평점 들 은 . ... 나쁘 진 않 지만 10 점 짜리 는 더더욱 아니 잖아</td>\n",
       "    </tr>\n",
       "    <tr>\n",
       "      <th>6825595</th>\n",
       "      <td>지루하지는 않은데 완전 막장임... 돈주고 보기에는....</td>\n",
       "      <td>0</td>\n",
       "      <td>지루 하 지 는 않 은데 완전 막장 임 . .. 돈 주 고 보 기 에 는 . ...</td>\n",
       "    </tr>\n",
       "    <tr>\n",
       "      <th>6723715</th>\n",
       "      <td>3D만 아니었어도 별 다섯 개 줬을텐데.. 왜 3D로 나와서 제 심기를 불편하게 하죠??</td>\n",
       "      <td>0</td>\n",
       "      <td>3 D 만 아니 었 어도 별 다섯 개 줬 을 텐데 . . 왜 3 D 로 나와서 제 ...</td>\n",
       "    </tr>\n",
       "    <tr>\n",
       "      <th>...</th>\n",
       "      <td>...</td>\n",
       "      <td>...</td>\n",
       "      <td>...</td>\n",
       "    </tr>\n",
       "    <tr>\n",
       "      <th>4608761</th>\n",
       "      <td>오랜만에 평점 로긴했네ㅋㅋ 킹왕짱 쌈뽕한 영화를 만났습니다 강렬하게 육쾌함</td>\n",
       "      <td>1</td>\n",
       "      <td>오랜만 에 평점 로 긴 했 네 ㅋㅋ 킹왕짱 쌈 뽕 한 영화 를 만났 습니다 강렬 하...</td>\n",
       "    </tr>\n",
       "    <tr>\n",
       "      <th>5308387</th>\n",
       "      <td>의지 박약들이나 하는거다 탈영은 일단 주인공 김대희 닮았고 이등병 찐따 OOOO</td>\n",
       "      <td>0</td>\n",
       "      <td>의지 박약 들 이나 하 는 거 다 탈영 은 일단 주인공 사람 닮 았 고 이등병 찐따...</td>\n",
       "    </tr>\n",
       "    <tr>\n",
       "      <th>9072549</th>\n",
       "      <td>그림도 좋고 완성도도 높았지만... 보는 내내 불안하게 만든다</td>\n",
       "      <td>0</td>\n",
       "      <td>그림 도 좋 고 완성도 도 높 았 지만 . .. 보 는 내내 불안 하 게 만든다</td>\n",
       "    </tr>\n",
       "    <tr>\n",
       "      <th>5802125</th>\n",
       "      <td>절대 봐서는 안 될 영화.. 재미도 없고 기분만 잡치고.. 한 세트장에서 다 해먹네</td>\n",
       "      <td>0</td>\n",
       "      <td>절대 봐서 는 안 될 영화 . . 재미 도 없 고 기분 만 잡치 고 . . 한 세트...</td>\n",
       "    </tr>\n",
       "    <tr>\n",
       "      <th>6070594</th>\n",
       "      <td>마무리는 또 왜이래</td>\n",
       "      <td>0</td>\n",
       "      <td>마무리 는 또 왜 이래</td>\n",
       "    </tr>\n",
       "  </tbody>\n",
       "</table>\n",
       "<p>50000 rows × 3 columns</p>\n",
       "</div>"
      ],
      "text/plain": [
       "                                                  document label  \\\n",
       "id                                                                 \n",
       "6270596                                                굳 ㅋ     1   \n",
       "9274899                               GDNTOPCLASSINTHECLUB     0   \n",
       "8544678             뭐야 이 평점들은.... 나쁘진 않지만 10점 짜리는 더더욱 아니잖아     0   \n",
       "6825595                   지루하지는 않은데 완전 막장임... 돈주고 보기에는....     0   \n",
       "6723715  3D만 아니었어도 별 다섯 개 줬을텐데.. 왜 3D로 나와서 제 심기를 불편하게 하죠??     0   \n",
       "...                                                    ...   ...   \n",
       "4608761          오랜만에 평점 로긴했네ㅋㅋ 킹왕짱 쌈뽕한 영화를 만났습니다 강렬하게 육쾌함     1   \n",
       "5308387       의지 박약들이나 하는거다 탈영은 일단 주인공 김대희 닮았고 이등병 찐따 OOOO     0   \n",
       "9072549                 그림도 좋고 완성도도 높았지만... 보는 내내 불안하게 만든다     0   \n",
       "5802125     절대 봐서는 안 될 영화.. 재미도 없고 기분만 잡치고.. 한 세트장에서 다 해먹네     0   \n",
       "6070594                                         마무리는 또 왜이래     0   \n",
       "\n",
       "                                                 morphemes  \n",
       "id                                                          \n",
       "6270596                                                굳 ㅋ  \n",
       "9274899                               GDNTOPCLASSINTHECLUB  \n",
       "8544678   뭐 야 이 평점 들 은 . ... 나쁘 진 않 지만 10 점 짜리 는 더더욱 아니 잖아  \n",
       "6825595     지루 하 지 는 않 은데 완전 막장 임 . .. 돈 주 고 보 기 에 는 . ...  \n",
       "6723715  3 D 만 아니 었 어도 별 다섯 개 줬 을 텐데 . . 왜 3 D 로 나와서 제 ...  \n",
       "...                                                    ...  \n",
       "4608761  오랜만 에 평점 로 긴 했 네 ㅋㅋ 킹왕짱 쌈 뽕 한 영화 를 만났 습니다 강렬 하...  \n",
       "5308387  의지 박약 들 이나 하 는 거 다 탈영 은 일단 주인공 사람 닮 았 고 이등병 찐따...  \n",
       "9072549       그림 도 좋 고 완성도 도 높 았 지만 . .. 보 는 내내 불안 하 게 만든다  \n",
       "5802125  절대 봐서 는 안 될 영화 . . 재미 도 없 고 기분 만 잡치 고 . . 한 세트...  \n",
       "6070594                                       마무리 는 또 왜 이래  \n",
       "\n",
       "[50000 rows x 3 columns]"
      ]
     },
     "execution_count": 19,
     "metadata": {},
     "output_type": "execute_result"
    }
   ],
   "source": [
    "test_set"
   ]
  },
  {
   "cell_type": "markdown",
   "id": "0d56f948-7ee9-4e94-9e5a-afbdb71b6bb1",
   "metadata": {},
   "source": [
    "## Typecasting"
   ]
  },
  {
   "cell_type": "code",
   "execution_count": 20,
   "id": "de52a87c-78a5-4fcb-b656-3c6590f70cce",
   "metadata": {},
   "outputs": [],
   "source": [
    "train_set = train_set.astype({\n",
    "    'document':'str',\n",
    "    'label':'int',\n",
    "    'morphemes':'str',\n",
    "})"
   ]
  },
  {
   "cell_type": "code",
   "execution_count": 21,
   "id": "132db490-0ecf-423c-affa-8a1ac82d5fac",
   "metadata": {},
   "outputs": [
    {
     "data": {
      "text/html": [
       "<div>\n",
       "<style scoped>\n",
       "    .dataframe tbody tr th:only-of-type {\n",
       "        vertical-align: middle;\n",
       "    }\n",
       "\n",
       "    .dataframe tbody tr th {\n",
       "        vertical-align: top;\n",
       "    }\n",
       "\n",
       "    .dataframe thead th {\n",
       "        text-align: right;\n",
       "    }\n",
       "</style>\n",
       "<table border=\"1\" class=\"dataframe\">\n",
       "  <thead>\n",
       "    <tr style=\"text-align: right;\">\n",
       "      <th></th>\n",
       "      <th>document</th>\n",
       "      <th>label</th>\n",
       "      <th>morphemes</th>\n",
       "    </tr>\n",
       "    <tr>\n",
       "      <th>id</th>\n",
       "      <th></th>\n",
       "      <th></th>\n",
       "      <th></th>\n",
       "    </tr>\n",
       "  </thead>\n",
       "  <tbody>\n",
       "    <tr>\n",
       "      <th>3546826</th>\n",
       "      <td>미스테리</td>\n",
       "      <td>0</td>\n",
       "      <td>미스테리</td>\n",
       "    </tr>\n",
       "    <tr>\n",
       "      <th>10161639</th>\n",
       "      <td>뭐 말이 필요한가???</td>\n",
       "      <td>1</td>\n",
       "      <td>뭐 말 이 필요 한가 ? ??</td>\n",
       "    </tr>\n",
       "    <tr>\n",
       "      <th>9295845</th>\n",
       "      <td>흠... 만든 이유를 모르겠음...</td>\n",
       "      <td>0</td>\n",
       "      <td>흠 . .. 만든 이유 를 모르 겠 음 . ..</td>\n",
       "    </tr>\n",
       "    <tr>\n",
       "      <th>9868407</th>\n",
       "      <td>쓰래기영화 정우성 이건아닌되요</td>\n",
       "      <td>0</td>\n",
       "      <td>쓰래 사람 사람 이건 아닌 되 요</td>\n",
       "    </tr>\n",
       "    <tr>\n",
       "      <th>5374061</th>\n",
       "      <td>감각적인 영상속에 펼쳐지는 화끈한 액숀과 코믹 퍼레이드</td>\n",
       "      <td>1</td>\n",
       "      <td>감각 적 인 영상 속 에 펼쳐지 는 화끈 한 액 사람 과 코믹 퍼레이드</td>\n",
       "    </tr>\n",
       "    <tr>\n",
       "      <th>...</th>\n",
       "      <td>...</td>\n",
       "      <td>...</td>\n",
       "      <td>...</td>\n",
       "    </tr>\n",
       "    <tr>\n",
       "      <th>3626259</th>\n",
       "      <td>아버지... 보물같은 영화.</td>\n",
       "      <td>1</td>\n",
       "      <td>아버지 . .. 보물 같 은 영화 .</td>\n",
       "    </tr>\n",
       "    <tr>\n",
       "      <th>9274666</th>\n",
       "      <td>난 진짜 뻥안치고 별로엿음...주온1편이 너무 충격적이어서..기대치를 못채운듯..</td>\n",
       "      <td>0</td>\n",
       "      <td>난 진짜 뻥 안 치 고 별로 엿 음 . .. 주온 1 편 이 너무 충격 적 이 어서...</td>\n",
       "    </tr>\n",
       "    <tr>\n",
       "      <th>6594162</th>\n",
       "      <td>이거보고재밋다고한혹우잇는가?</td>\n",
       "      <td>0</td>\n",
       "      <td>이거 보고 재 밋 다고 한 혹우 잇 는가 ?</td>\n",
       "    </tr>\n",
       "    <tr>\n",
       "      <th>4618421</th>\n",
       "      <td>달콤한 그들의 노래 그러나,그냥 TV 30분 다큐로 했으면 좋았을 것을...</td>\n",
       "      <td>0</td>\n",
       "      <td>달콤 한 그 들 의 노래 그러나 , 그냥 TV 30 분 다큐 로 했 으면 좋 았 을...</td>\n",
       "    </tr>\n",
       "    <tr>\n",
       "      <th>9707376</th>\n",
       "      <td>왕치아즈를 무너지게 만든 한마디. 양조위의 그 눈빛, 손길.</td>\n",
       "      <td>1</td>\n",
       "      <td>왕치 사람 를 무너지 게 만든 한마디 . 사람 의 그 눈빛 , 손길 .</td>\n",
       "    </tr>\n",
       "  </tbody>\n",
       "</table>\n",
       "<p>105000 rows × 3 columns</p>\n",
       "</div>"
      ],
      "text/plain": [
       "                                               document  label  \\\n",
       "id                                                               \n",
       "3546826                                            미스테리      0   \n",
       "10161639                                   뭐 말이 필요한가???      1   \n",
       "9295845                             흠... 만든 이유를 모르겠음...      0   \n",
       "9868407                                쓰래기영화 정우성 이건아닌되요      0   \n",
       "5374061                  감각적인 영상속에 펼쳐지는 화끈한 액숀과 코믹 퍼레이드      1   \n",
       "...                                                 ...    ...   \n",
       "3626259                                 아버지... 보물같은 영화.      1   \n",
       "9274666   난 진짜 뻥안치고 별로엿음...주온1편이 너무 충격적이어서..기대치를 못채운듯..      0   \n",
       "6594162                                 이거보고재밋다고한혹우잇는가?      0   \n",
       "4618421      달콤한 그들의 노래 그러나,그냥 TV 30분 다큐로 했으면 좋았을 것을...      0   \n",
       "9707376               왕치아즈를 무너지게 만든 한마디. 양조위의 그 눈빛, 손길.      1   \n",
       "\n",
       "                                                  morphemes  \n",
       "id                                                           \n",
       "3546826                                                미스테리  \n",
       "10161639                                   뭐 말 이 필요 한가 ? ??  \n",
       "9295845                          흠 . .. 만든 이유 를 모르 겠 음 . ..  \n",
       "9868407                                  쓰래 사람 사람 이건 아닌 되 요  \n",
       "5374061             감각 적 인 영상 속 에 펼쳐지 는 화끈 한 액 사람 과 코믹 퍼레이드  \n",
       "...                                                     ...  \n",
       "3626259                                아버지 . .. 보물 같 은 영화 .  \n",
       "9274666   난 진짜 뻥 안 치 고 별로 엿 음 . .. 주온 1 편 이 너무 충격 적 이 어서...  \n",
       "6594162                            이거 보고 재 밋 다고 한 혹우 잇 는가 ?  \n",
       "4618421   달콤 한 그 들 의 노래 그러나 , 그냥 TV 30 분 다큐 로 했 으면 좋 았 을...  \n",
       "9707376             왕치 사람 를 무너지 게 만든 한마디 . 사람 의 그 눈빛 , 손길 .  \n",
       "\n",
       "[105000 rows x 3 columns]"
      ]
     },
     "execution_count": 21,
     "metadata": {},
     "output_type": "execute_result"
    }
   ],
   "source": [
    "train_set"
   ]
  },
  {
   "cell_type": "code",
   "execution_count": 22,
   "id": "0cdffc59-0626-496e-ab72-084e783dd133",
   "metadata": {},
   "outputs": [],
   "source": [
    "val_set = val_set.astype({\n",
    "    'document':'str',\n",
    "    'label':'int',\n",
    "    'morphemes':'str',\n",
    "})"
   ]
  },
  {
   "cell_type": "code",
   "execution_count": 23,
   "id": "995083a3-d4ad-4f0b-bf9d-67a4e433a463",
   "metadata": {},
   "outputs": [
    {
     "data": {
      "text/html": [
       "<div>\n",
       "<style scoped>\n",
       "    .dataframe tbody tr th:only-of-type {\n",
       "        vertical-align: middle;\n",
       "    }\n",
       "\n",
       "    .dataframe tbody tr th {\n",
       "        vertical-align: top;\n",
       "    }\n",
       "\n",
       "    .dataframe thead th {\n",
       "        text-align: right;\n",
       "    }\n",
       "</style>\n",
       "<table border=\"1\" class=\"dataframe\">\n",
       "  <thead>\n",
       "    <tr style=\"text-align: right;\">\n",
       "      <th></th>\n",
       "      <th>document</th>\n",
       "      <th>label</th>\n",
       "      <th>morphemes</th>\n",
       "    </tr>\n",
       "    <tr>\n",
       "      <th>id</th>\n",
       "      <th></th>\n",
       "      <th></th>\n",
       "      <th></th>\n",
       "    </tr>\n",
       "  </thead>\n",
       "  <tbody>\n",
       "    <tr>\n",
       "      <th>10175148</th>\n",
       "      <td>저렇게 근로자의 노동권이 처참히 유린당하는데.. 왜 노동자들은 화를 내지 못하는걸까?</td>\n",
       "      <td>1</td>\n",
       "      <td>저렇게 근로자 의 노동 권 이 처참히 유린 당하 는데 . . 왜 노동자 들 은 화 ...</td>\n",
       "    </tr>\n",
       "    <tr>\n",
       "      <th>2810310</th>\n",
       "      <td>정말 유쾌함에정신을 놓았다영화 아님 이런 기분 못 느껴 볼껄그만큼 존재가치도 높다</td>\n",
       "      <td>1</td>\n",
       "      <td>정말 유쾌 함 에 정신 을 놓 았 다 영화 아님 이런 기분 못 느껴 볼 껄 그만큼 ...</td>\n",
       "    </tr>\n",
       "    <tr>\n",
       "      <th>5407585</th>\n",
       "      <td>영화관 가서 본거는 귀썩고 나래이션 쓰래긴데 KBS에서 하고있는건 완전 신기</td>\n",
       "      <td>0</td>\n",
       "      <td>영화관 가 서 본 거 는 귀 썩 고 나래 이 션 쓰래 긴데 KBS 에서 하 고 있 ...</td>\n",
       "    </tr>\n",
       "    <tr>\n",
       "      <th>9808055</th>\n",
       "      <td>네이버 평점에 심하게 낚였다. 보는 내내 지루해서 끌까말까 망설였는데..</td>\n",
       "      <td>0</td>\n",
       "      <td>네이버 평점 에 심하 게 낚였 다 . 보 는 내내 지루 해서 끌 까말까 망설였 는데...</td>\n",
       "    </tr>\n",
       "    <tr>\n",
       "      <th>6862407</th>\n",
       "      <td>내가 알던 택시가 맞나 싶은 영화 유머코드도 전혀 나랑 매치도 안되는 것 같고 여러...</td>\n",
       "      <td>0</td>\n",
       "      <td>내 가 알 던 택시 가 맞 나 싶 은 영화 유머 코드 도 전혀 나 랑 매치 도 안 ...</td>\n",
       "    </tr>\n",
       "    <tr>\n",
       "      <th>...</th>\n",
       "      <td>...</td>\n",
       "      <td>...</td>\n",
       "      <td>...</td>\n",
       "    </tr>\n",
       "    <tr>\n",
       "      <th>5786109</th>\n",
       "      <td>우리에게 굵직한 지혜들을 건네는 너무나 멋진 영화</td>\n",
       "      <td>1</td>\n",
       "      <td>우리 에게 굵직 한 지혜 들 을 건네 는 너무나 멋진 영화</td>\n",
       "    </tr>\n",
       "    <tr>\n",
       "      <th>6326336</th>\n",
       "      <td>막장인생 바니 결국 사랑으로 구원 받고,죽음으로 용서받았다.</td>\n",
       "      <td>1</td>\n",
       "      <td>막장 인생 사람 결국 사랑 으로 구원 받 고 , 죽음 으로 용서 받 았 다 .</td>\n",
       "    </tr>\n",
       "    <tr>\n",
       "      <th>9339957</th>\n",
       "      <td>링과 더불어 일본공포물에는 가장 잼나게 본 영화. 벨소리가 상당한 공포감을 조성한다.</td>\n",
       "      <td>1</td>\n",
       "      <td>링 과 더불 어 일본 공포물 에 는 가장 잼 나 게 본 영화 . 벨소리 가 상당 한...</td>\n",
       "    </tr>\n",
       "    <tr>\n",
       "      <th>8038339</th>\n",
       "      <td>노잼 뒤처리안한느낌의 찝찝함과 쓸대없이너무짧은 러닝타임</td>\n",
       "      <td>0</td>\n",
       "      <td>사람 잼 뒤처리 안 한 느낌 의 찝찝 함 과 쓸 대 없이 너무 짧 은 러닝 타임</td>\n",
       "    </tr>\n",
       "    <tr>\n",
       "      <th>3276814</th>\n",
       "      <td>저런 극적인 삶을원한다면 배부른소리겠지...</td>\n",
       "      <td>1</td>\n",
       "      <td>저런 극 적 인 삶 을 원한다면 배부른 소리 겠 지 . ..</td>\n",
       "    </tr>\n",
       "  </tbody>\n",
       "</table>\n",
       "<p>45000 rows × 3 columns</p>\n",
       "</div>"
      ],
      "text/plain": [
       "                                                   document  label  \\\n",
       "id                                                                   \n",
       "10175148    저렇게 근로자의 노동권이 처참히 유린당하는데.. 왜 노동자들은 화를 내지 못하는걸까?      1   \n",
       "2810310       정말 유쾌함에정신을 놓았다영화 아님 이런 기분 못 느껴 볼껄그만큼 존재가치도 높다      1   \n",
       "5407585          영화관 가서 본거는 귀썩고 나래이션 쓰래긴데 KBS에서 하고있는건 완전 신기      0   \n",
       "9808055            네이버 평점에 심하게 낚였다. 보는 내내 지루해서 끌까말까 망설였는데..      0   \n",
       "6862407   내가 알던 택시가 맞나 싶은 영화 유머코드도 전혀 나랑 매치도 안되는 것 같고 여러...      0   \n",
       "...                                                     ...    ...   \n",
       "5786109                         우리에게 굵직한 지혜들을 건네는 너무나 멋진 영화      1   \n",
       "6326336                   막장인생 바니 결국 사랑으로 구원 받고,죽음으로 용서받았다.      1   \n",
       "9339957     링과 더불어 일본공포물에는 가장 잼나게 본 영화. 벨소리가 상당한 공포감을 조성한다.      1   \n",
       "8038339                      노잼 뒤처리안한느낌의 찝찝함과 쓸대없이너무짧은 러닝타임      0   \n",
       "3276814                            저런 극적인 삶을원한다면 배부른소리겠지...      1   \n",
       "\n",
       "                                                  morphemes  \n",
       "id                                                           \n",
       "10175148  저렇게 근로자 의 노동 권 이 처참히 유린 당하 는데 . . 왜 노동자 들 은 화 ...  \n",
       "2810310   정말 유쾌 함 에 정신 을 놓 았 다 영화 아님 이런 기분 못 느껴 볼 껄 그만큼 ...  \n",
       "5407585   영화관 가 서 본 거 는 귀 썩 고 나래 이 션 쓰래 긴데 KBS 에서 하 고 있 ...  \n",
       "9808055   네이버 평점 에 심하 게 낚였 다 . 보 는 내내 지루 해서 끌 까말까 망설였 는데...  \n",
       "6862407   내 가 알 던 택시 가 맞 나 싶 은 영화 유머 코드 도 전혀 나 랑 매치 도 안 ...  \n",
       "...                                                     ...  \n",
       "5786109                    우리 에게 굵직 한 지혜 들 을 건네 는 너무나 멋진 영화  \n",
       "6326336         막장 인생 사람 결국 사랑 으로 구원 받 고 , 죽음 으로 용서 받 았 다 .  \n",
       "9339957   링 과 더불 어 일본 공포물 에 는 가장 잼 나 게 본 영화 . 벨소리 가 상당 한...  \n",
       "8038339        사람 잼 뒤처리 안 한 느낌 의 찝찝 함 과 쓸 대 없이 너무 짧 은 러닝 타임  \n",
       "3276814                   저런 극 적 인 삶 을 원한다면 배부른 소리 겠 지 . ..  \n",
       "\n",
       "[45000 rows x 3 columns]"
      ]
     },
     "execution_count": 23,
     "metadata": {},
     "output_type": "execute_result"
    }
   ],
   "source": [
    "val_set"
   ]
  },
  {
   "cell_type": "code",
   "execution_count": 24,
   "id": "dffef4af-aebf-4f5d-bb76-58e9767c565d",
   "metadata": {},
   "outputs": [],
   "source": [
    "test_set = test_set.astype({\n",
    "    'document':'str',\n",
    "    'label':'int',\n",
    "    'morphemes':'str',\n",
    "})"
   ]
  },
  {
   "cell_type": "code",
   "execution_count": 25,
   "id": "90a5917a-710f-45c7-96c0-e1669a8a03b8",
   "metadata": {},
   "outputs": [
    {
     "data": {
      "text/html": [
       "<div>\n",
       "<style scoped>\n",
       "    .dataframe tbody tr th:only-of-type {\n",
       "        vertical-align: middle;\n",
       "    }\n",
       "\n",
       "    .dataframe tbody tr th {\n",
       "        vertical-align: top;\n",
       "    }\n",
       "\n",
       "    .dataframe thead th {\n",
       "        text-align: right;\n",
       "    }\n",
       "</style>\n",
       "<table border=\"1\" class=\"dataframe\">\n",
       "  <thead>\n",
       "    <tr style=\"text-align: right;\">\n",
       "      <th></th>\n",
       "      <th>document</th>\n",
       "      <th>label</th>\n",
       "      <th>morphemes</th>\n",
       "    </tr>\n",
       "    <tr>\n",
       "      <th>id</th>\n",
       "      <th></th>\n",
       "      <th></th>\n",
       "      <th></th>\n",
       "    </tr>\n",
       "  </thead>\n",
       "  <tbody>\n",
       "    <tr>\n",
       "      <th>6270596</th>\n",
       "      <td>굳 ㅋ</td>\n",
       "      <td>1</td>\n",
       "      <td>굳 ㅋ</td>\n",
       "    </tr>\n",
       "    <tr>\n",
       "      <th>9274899</th>\n",
       "      <td>GDNTOPCLASSINTHECLUB</td>\n",
       "      <td>0</td>\n",
       "      <td>GDNTOPCLASSINTHECLUB</td>\n",
       "    </tr>\n",
       "    <tr>\n",
       "      <th>8544678</th>\n",
       "      <td>뭐야 이 평점들은.... 나쁘진 않지만 10점 짜리는 더더욱 아니잖아</td>\n",
       "      <td>0</td>\n",
       "      <td>뭐 야 이 평점 들 은 . ... 나쁘 진 않 지만 10 점 짜리 는 더더욱 아니 잖아</td>\n",
       "    </tr>\n",
       "    <tr>\n",
       "      <th>6825595</th>\n",
       "      <td>지루하지는 않은데 완전 막장임... 돈주고 보기에는....</td>\n",
       "      <td>0</td>\n",
       "      <td>지루 하 지 는 않 은데 완전 막장 임 . .. 돈 주 고 보 기 에 는 . ...</td>\n",
       "    </tr>\n",
       "    <tr>\n",
       "      <th>6723715</th>\n",
       "      <td>3D만 아니었어도 별 다섯 개 줬을텐데.. 왜 3D로 나와서 제 심기를 불편하게 하죠??</td>\n",
       "      <td>0</td>\n",
       "      <td>3 D 만 아니 었 어도 별 다섯 개 줬 을 텐데 . . 왜 3 D 로 나와서 제 ...</td>\n",
       "    </tr>\n",
       "    <tr>\n",
       "      <th>...</th>\n",
       "      <td>...</td>\n",
       "      <td>...</td>\n",
       "      <td>...</td>\n",
       "    </tr>\n",
       "    <tr>\n",
       "      <th>4608761</th>\n",
       "      <td>오랜만에 평점 로긴했네ㅋㅋ 킹왕짱 쌈뽕한 영화를 만났습니다 강렬하게 육쾌함</td>\n",
       "      <td>1</td>\n",
       "      <td>오랜만 에 평점 로 긴 했 네 ㅋㅋ 킹왕짱 쌈 뽕 한 영화 를 만났 습니다 강렬 하...</td>\n",
       "    </tr>\n",
       "    <tr>\n",
       "      <th>5308387</th>\n",
       "      <td>의지 박약들이나 하는거다 탈영은 일단 주인공 김대희 닮았고 이등병 찐따 OOOO</td>\n",
       "      <td>0</td>\n",
       "      <td>의지 박약 들 이나 하 는 거 다 탈영 은 일단 주인공 사람 닮 았 고 이등병 찐따...</td>\n",
       "    </tr>\n",
       "    <tr>\n",
       "      <th>9072549</th>\n",
       "      <td>그림도 좋고 완성도도 높았지만... 보는 내내 불안하게 만든다</td>\n",
       "      <td>0</td>\n",
       "      <td>그림 도 좋 고 완성도 도 높 았 지만 . .. 보 는 내내 불안 하 게 만든다</td>\n",
       "    </tr>\n",
       "    <tr>\n",
       "      <th>5802125</th>\n",
       "      <td>절대 봐서는 안 될 영화.. 재미도 없고 기분만 잡치고.. 한 세트장에서 다 해먹네</td>\n",
       "      <td>0</td>\n",
       "      <td>절대 봐서 는 안 될 영화 . . 재미 도 없 고 기분 만 잡치 고 . . 한 세트...</td>\n",
       "    </tr>\n",
       "    <tr>\n",
       "      <th>6070594</th>\n",
       "      <td>마무리는 또 왜이래</td>\n",
       "      <td>0</td>\n",
       "      <td>마무리 는 또 왜 이래</td>\n",
       "    </tr>\n",
       "  </tbody>\n",
       "</table>\n",
       "<p>50000 rows × 3 columns</p>\n",
       "</div>"
      ],
      "text/plain": [
       "                                                  document  label  \\\n",
       "id                                                                  \n",
       "6270596                                                굳 ㅋ      1   \n",
       "9274899                               GDNTOPCLASSINTHECLUB      0   \n",
       "8544678             뭐야 이 평점들은.... 나쁘진 않지만 10점 짜리는 더더욱 아니잖아      0   \n",
       "6825595                   지루하지는 않은데 완전 막장임... 돈주고 보기에는....      0   \n",
       "6723715  3D만 아니었어도 별 다섯 개 줬을텐데.. 왜 3D로 나와서 제 심기를 불편하게 하죠??      0   \n",
       "...                                                    ...    ...   \n",
       "4608761          오랜만에 평점 로긴했네ㅋㅋ 킹왕짱 쌈뽕한 영화를 만났습니다 강렬하게 육쾌함      1   \n",
       "5308387       의지 박약들이나 하는거다 탈영은 일단 주인공 김대희 닮았고 이등병 찐따 OOOO      0   \n",
       "9072549                 그림도 좋고 완성도도 높았지만... 보는 내내 불안하게 만든다      0   \n",
       "5802125     절대 봐서는 안 될 영화.. 재미도 없고 기분만 잡치고.. 한 세트장에서 다 해먹네      0   \n",
       "6070594                                         마무리는 또 왜이래      0   \n",
       "\n",
       "                                                 morphemes  \n",
       "id                                                          \n",
       "6270596                                                굳 ㅋ  \n",
       "9274899                               GDNTOPCLASSINTHECLUB  \n",
       "8544678   뭐 야 이 평점 들 은 . ... 나쁘 진 않 지만 10 점 짜리 는 더더욱 아니 잖아  \n",
       "6825595     지루 하 지 는 않 은데 완전 막장 임 . .. 돈 주 고 보 기 에 는 . ...  \n",
       "6723715  3 D 만 아니 었 어도 별 다섯 개 줬 을 텐데 . . 왜 3 D 로 나와서 제 ...  \n",
       "...                                                    ...  \n",
       "4608761  오랜만 에 평점 로 긴 했 네 ㅋㅋ 킹왕짱 쌈 뽕 한 영화 를 만났 습니다 강렬 하...  \n",
       "5308387  의지 박약 들 이나 하 는 거 다 탈영 은 일단 주인공 사람 닮 았 고 이등병 찐따...  \n",
       "9072549       그림 도 좋 고 완성도 도 높 았 지만 . .. 보 는 내내 불안 하 게 만든다  \n",
       "5802125  절대 봐서 는 안 될 영화 . . 재미 도 없 고 기분 만 잡치 고 . . 한 세트...  \n",
       "6070594                                       마무리 는 또 왜 이래  \n",
       "\n",
       "[50000 rows x 3 columns]"
      ]
     },
     "execution_count": 25,
     "metadata": {},
     "output_type": "execute_result"
    }
   ],
   "source": [
    "test_set"
   ]
  },
  {
   "cell_type": "markdown",
   "id": "1c69cd86-7a47-439b-aa50-6beb717c6ee8",
   "metadata": {
    "tags": []
   },
   "source": [
    "## Fine-tuning"
   ]
  },
  {
   "cell_type": "code",
   "execution_count": 26,
   "id": "689d749d-ad28-4825-81fc-158b42566469",
   "metadata": {},
   "outputs": [],
   "source": [
    "def write_fasttext_dataset(dataframe, dst_path, label_map):\n",
    "    results = dataframe.parallel_apply(\n",
    "        lambda x: ''.join([label_map[x['label']], ' ', x['morphemes']]),\n",
    "        axis=1\n",
    "    )\n",
    "    \n",
    "    results.to_csv(dst_path, header=False, index=False)"
   ]
  },
  {
   "cell_type": "code",
   "execution_count": 27,
   "id": "5dd4eb1a-841c-453b-9cc6-97a04f514ef1",
   "metadata": {},
   "outputs": [],
   "source": [
    "label_map = dict()\n",
    "label_map[0] = '__label__Bad'\n",
    "label_map[1] = '__label__Good'"
   ]
  },
  {
   "cell_type": "code",
   "execution_count": 28,
   "id": "14413ae8-17d3-42e4-93c9-748d2932f77f",
   "metadata": {},
   "outputs": [
    {
     "data": {
      "application/vnd.jupyter.widget-view+json": {
       "model_id": "971eb6a527554f95b75e3f086da8b86d",
       "version_major": 2,
       "version_minor": 0
      },
      "text/plain": [
       "VBox(children=(HBox(children=(IntProgress(value=0, description='0.00%', max=3282), Label(value='0 / 3282'))), …"
      ]
     },
     "metadata": {},
     "output_type": "display_data"
    }
   ],
   "source": [
    "write_fasttext_dataset(train_set, config['train_set'], label_map)"
   ]
  },
  {
   "cell_type": "code",
   "execution_count": 29,
   "id": "4317fea4-ca87-4ca1-b227-16a1e6ba38b9",
   "metadata": {},
   "outputs": [
    {
     "data": {
      "application/vnd.jupyter.widget-view+json": {
       "model_id": "c35dd88f162a4007866c8291e3e21765",
       "version_major": 2,
       "version_minor": 0
      },
      "text/plain": [
       "VBox(children=(HBox(children=(IntProgress(value=0, description='0.00%', max=1407), Label(value='0 / 1407'))), …"
      ]
     },
     "metadata": {},
     "output_type": "display_data"
    }
   ],
   "source": [
    "write_fasttext_dataset(val_set, config['val_set'], label_map)"
   ]
  },
  {
   "cell_type": "code",
   "execution_count": 30,
   "id": "c544f676-38d1-4c01-a279-2ef03e0a65d4",
   "metadata": {},
   "outputs": [
    {
     "data": {
      "application/vnd.jupyter.widget-view+json": {
       "model_id": "209f56ced7fd4df7baac83ed9c83f092",
       "version_major": 2,
       "version_minor": 0
      },
      "text/plain": [
       "VBox(children=(HBox(children=(IntProgress(value=0, description='0.00%', max=1563), Label(value='0 / 1563'))), …"
      ]
     },
     "metadata": {},
     "output_type": "display_data"
    }
   ],
   "source": [
    "write_fasttext_dataset(test_set, config['test_set'], label_map)"
   ]
  },
  {
   "cell_type": "code",
   "execution_count": 31,
   "id": "0daef36c-0506-40a0-9391-dc8645b92032",
   "metadata": {},
   "outputs": [
    {
     "name": "stderr",
     "output_type": "stream",
     "text": [
      "Read 2M words\n",
      "Number of words:  40332\n",
      "Number of labels: 2\n",
      "Progress: 100.0% words/sec/thread:  279164 lr:  0.000000 avg.loss:  0.382539 ETA:   0h 0m 0s\n"
     ]
    }
   ],
   "source": [
    "model = fasttext.train_supervised(\n",
    "    config['train_set'], \n",
    "    pretrainedVectors=config['pretrained_vec'],\n",
    ")"
   ]
  },
  {
   "cell_type": "code",
   "execution_count": 32,
   "id": "780fc378-29d5-4172-b5c1-3f54564dcf7f",
   "metadata": {},
   "outputs": [],
   "source": [
    "tqdm.pandas()"
   ]
  },
  {
   "cell_type": "code",
   "execution_count": 33,
   "id": "9b044606-b9e5-4066-9f43-6ee6df965655",
   "metadata": {},
   "outputs": [],
   "source": [
    "def predict(model, features):\n",
    "    return features.progress_apply(lambda x: model.predict(x, k=2))"
   ]
  },
  {
   "cell_type": "code",
   "execution_count": 34,
   "id": "ab3eccc1-7294-4e94-b4aa-d0e0cb22eaeb",
   "metadata": {},
   "outputs": [
    {
     "name": "stderr",
     "output_type": "stream",
     "text": [
      "100%|██████████| 45000/45000 [00:00<00:00, 88936.82it/s]"
     ]
    },
    {
     "name": "stdout",
     "output_type": "stream",
     "text": [
      "CPU times: user 513 ms, sys: 14.7 ms, total: 528 ms\n",
      "Wall time: 524 ms\n"
     ]
    },
    {
     "name": "stderr",
     "output_type": "stream",
     "text": [
      "\n"
     ]
    }
   ],
   "source": [
    "%%time\n",
    "validation_results = predict(model, val_set['morphemes'])"
   ]
  },
  {
   "cell_type": "code",
   "execution_count": 35,
   "id": "8e48ef60-ae61-41df-9fd7-04b32e126d28",
   "metadata": {},
   "outputs": [
    {
     "data": {
      "text/plain": [
       "id\n",
       "10175148    ((__label__Bad, __label__Good), [0.92359066009...\n",
       "2810310     ((__label__Bad, __label__Good), [0.61035817861...\n",
       "5407585     ((__label__Bad, __label__Good), [0.79245615005...\n",
       "9808055     ((__label__Bad, __label__Good), [0.99410384893...\n",
       "6862407     ((__label__Bad, __label__Good), [0.95299267768...\n",
       "                                  ...                        \n",
       "5786109     ((__label__Good, __label__Bad), [0.98507773876...\n",
       "6326336     ((__label__Good, __label__Bad), [0.78312790393...\n",
       "9339957     ((__label__Good, __label__Bad), [0.57073366641...\n",
       "8038339     ((__label__Bad, __label__Good), [0.83937537670...\n",
       "3276814     ((__label__Good, __label__Bad), [0.52911972999...\n",
       "Name: morphemes, Length: 45000, dtype: object"
      ]
     },
     "execution_count": 35,
     "metadata": {},
     "output_type": "execute_result"
    }
   ],
   "source": [
    "validation_results"
   ]
  },
  {
   "cell_type": "code",
   "execution_count": 36,
   "id": "ca154bed-1c5a-410c-8dd9-d2cc1030c503",
   "metadata": {},
   "outputs": [],
   "source": [
    "# model.save_model(\"model_filename.bin\")"
   ]
  },
  {
   "cell_type": "markdown",
   "id": "e64de84d-a47d-4a76-b0fb-d6014356a8d6",
   "metadata": {
    "tags": []
   },
   "source": [
    "## Validation"
   ]
  },
  {
   "cell_type": "markdown",
   "id": "6c7bfc43-3ad4-4d92-b6af-3126e2164bcb",
   "metadata": {},
   "source": [
    "### P@1, R@1\n",
    "\n",
    "- Do not use if the task is not multi-label classification"
   ]
  },
  {
   "cell_type": "code",
   "execution_count": 37,
   "id": "5d2e2d39-db7d-400b-af0c-8d0c97bff071",
   "metadata": {},
   "outputs": [
    {
     "name": "stdout",
     "output_type": "stream",
     "text": [
      "N\t40729\n",
      "P@1\t0.848\n",
      "R@1\t0.848\n"
     ]
    }
   ],
   "source": [
    "def print_results(N, p, r):\n",
    "    print(\"N\\t\" + str(N))\n",
    "    print(\"P@{}\\t{:.3f}\".format(1, p))\n",
    "    print(\"R@{}\\t{:.3f}\".format(1, r))\n",
    "\n",
    "print_results(*model.test(config['val_set']))"
   ]
  },
  {
   "cell_type": "markdown",
   "id": "6a561926-b992-4d08-8f7f-0ef142500490",
   "metadata": {},
   "source": [
    "### precision-recall curve"
   ]
  },
  {
   "cell_type": "code",
   "execution_count": 38,
   "id": "ca8b18df-b2e1-4902-86eb-2aafdd2cd4ef",
   "metadata": {},
   "outputs": [],
   "source": [
    "def plot_precision_recall_curve(model, dataset):\n",
    "    labels = dataset['label'].astype('int')\n",
    "    preds = dataset.progress_apply(lambda x: model.predict(x['morphemes'], k=2), axis=1)\n",
    "    preds = preds.apply(lambda x: np.array(x[1])[np.argsort(x[0])][1])\n",
    "    PrecisionRecallDisplay.from_predictions(labels, preds)"
   ]
  },
  {
   "cell_type": "code",
   "execution_count": 39,
   "id": "3d86281b-6125-4f06-b06c-1d3aa2013695",
   "metadata": {},
   "outputs": [
    {
     "name": "stderr",
     "output_type": "stream",
     "text": [
      "100%|██████████| 45000/45000 [00:00<00:00, 55284.18it/s]\n"
     ]
    },
    {
     "data": {
      "image/png": "[encoded data removed]",
      "text/plain": [
       "<Figure size 640x480 with 1 Axes>"
      ]
     },
     "metadata": {},
     "output_type": "display_data"
    }
   ],
   "source": [
    "plot_precision_recall_curve(model, val_set)"
   ]
  },
  {
   "cell_type": "code",
   "execution_count": 40,
   "id": "10a9e960-c128-4646-96c6-d7ba681b8a99",
   "metadata": {},
   "outputs": [],
   "source": [
    "def get_precision_recall_curve(model, dataset):\n",
    "    labels = dataset['label'].astype('int')\n",
    "    preds = dataset.progress_apply(lambda x: model.predict(x['morphemes'], k=2), axis=1)\n",
    "    preds = preds.apply(lambda x: np.array(x[1])[np.argsort(x[0])][1])\n",
    "    return precision_recall_curve(labels, preds)"
   ]
  },
  {
   "cell_type": "code",
   "execution_count": 41,
   "id": "7297c872-0377-4e76-8ff0-0f37b422388d",
   "metadata": {},
   "outputs": [
    {
     "name": "stderr",
     "output_type": "stream",
     "text": [
      "100%|██████████| 45000/45000 [00:00<00:00, 48527.34it/s]\n"
     ]
    }
   ],
   "source": [
    "metrics = dict()\n",
    "metrics['precision'], metrics['recall'], metrics['threshold'] = get_precision_recall_curve(model, val_set)"
   ]
  },
  {
   "cell_type": "markdown",
   "id": "e641217a-2db9-4865-a53d-e945864a05c9",
   "metadata": {},
   "source": [
    "### Finding an optimal threshold based on f1-score"
   ]
  },
  {
   "cell_type": "code",
   "execution_count": 42,
   "id": "0afc5bf9-5a5f-46bd-a898-b63ecb5e95ae",
   "metadata": {},
   "outputs": [],
   "source": [
    "def get_fbeta_score(precision, recall, beta=1):\n",
    "    coefficient = (1 + beta**2)\n",
    "    numerator = precision * recall\n",
    "    denominator = ((beta**2) * precision) + recall\n",
    "    return coefficient * (numerator/denominator)"
   ]
  },
  {
   "cell_type": "code",
   "execution_count": 43,
   "id": "2f00d7d6-ca18-49e5-acfc-9531e99c1d8c",
   "metadata": {},
   "outputs": [],
   "source": [
    "f1_scores = get_fbeta_score(metrics['precision'], metrics['recall'])\n",
    "best_threshold = metrics['threshold'][f1_scores.argmax()]\n",
    "best_precision = metrics['precision'][f1_scores.argmax()]\n",
    "best_recall = metrics['recall'][f1_scores.argmax()]"
   ]
  },
  {
   "cell_type": "code",
   "execution_count": 44,
   "id": "79fcca46-3ec1-46d0-90e6-6706dd99946d",
   "metadata": {},
   "outputs": [
    {
     "data": {
      "text/plain": [
       "0.8494921514312096"
      ]
     },
     "execution_count": 44,
     "metadata": {},
     "output_type": "execute_result"
    }
   ],
   "source": [
    "f1_scores.max()"
   ]
  },
  {
   "cell_type": "code",
   "execution_count": 45,
   "id": "ef79e0f3-29e4-477d-8dfd-b44d4c26668b",
   "metadata": {},
   "outputs": [
    {
     "data": {
      "text/plain": [
       "20400"
      ]
     },
     "execution_count": 45,
     "metadata": {},
     "output_type": "execute_result"
    }
   ],
   "source": [
    "f1_scores.argmax()"
   ]
  },
  {
   "cell_type": "code",
   "execution_count": 46,
   "id": "895b4587-f460-45e0-93af-c6096497fc09",
   "metadata": {},
   "outputs": [
    {
     "data": {
      "text/plain": [
       "0.41639384627342224"
      ]
     },
     "execution_count": 46,
     "metadata": {},
     "output_type": "execute_result"
    }
   ],
   "source": [
    "best_threshold"
   ]
  },
  {
   "cell_type": "code",
   "execution_count": 47,
   "id": "51f9d9b2-4064-409e-bf5c-fcf61340e69a",
   "metadata": {},
   "outputs": [
    {
     "data": {
      "text/plain": [
       "0.8200323369677874"
      ]
     },
     "execution_count": 47,
     "metadata": {},
     "output_type": "execute_result"
    }
   ],
   "source": [
    "best_precision"
   ]
  },
  {
   "cell_type": "code",
   "execution_count": 48,
   "id": "1c24d8e7-d1d9-4f78-804f-58919fb2e20a",
   "metadata": {},
   "outputs": [
    {
     "data": {
      "text/plain": [
       "0.8811475409836066"
      ]
     },
     "execution_count": 48,
     "metadata": {},
     "output_type": "execute_result"
    }
   ],
   "source": [
    "best_recall"
   ]
  }
 ],
 "metadata": {
  "kernelspec": {
   "display_name": "Python 3 (ipykernel)",
   "language": "python",
   "name": "python3"
  },
  "language_info": {
   "codemirror_mode": {
    "name": "ipython",
    "version": 3
   },
   "file_extension": ".py",
   "mimetype": "text/x-python",
   "name": "python",
   "nbconvert_exporter": "python",
   "pygments_lexer": "ipython3",
   "version": "3.10.7"
  }
 },
 "nbformat": 4,
 "nbformat_minor": 5
}
