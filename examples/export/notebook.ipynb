{
 "cells": [
  {
   "cell_type": "markdown",
   "id": "5a28b7f0-0706-4423-ad12-2c1126373f09",
   "metadata": {},
   "source": [
    "# Chracter N-grams"
   ]
  },
  {
   "cell_type": "code",
   "execution_count": 1,
   "id": "b52ad106-d67f-481b-ae42-f752b17afb5d",
   "metadata": {},
   "outputs": [],
   "source": [
    "import fasttext\n",
    "import numpy as np\n",
    "import gensim\n",
    "from mecab import MeCab\n",
    "import torch\n",
    "from torch.nn import Embedding, EmbeddingBag\n",
    "from torch.nn.functional import normalize\n",
    "from torch.autograd import Variable"
   ]
  },
  {
   "cell_type": "code",
   "execution_count": 2,
   "id": "fe8b486a-198f-4f05-85a7-0f937303250f",
   "metadata": {},
   "outputs": [],
   "source": [
    "query = '한국종합주가지수'\n",
    "model_path= '../baseline/tmp/fasttext.bin'"
   ]
  },
  {
   "cell_type": "markdown",
   "id": "2a5adfa2-52a3-45bc-8122-bc775e3a446a",
   "metadata": {
    "tags": []
   },
   "source": [
    "## fastText"
   ]
  },
  {
   "cell_type": "code",
   "execution_count": 3,
   "id": "2428818d-c1bd-4ce8-9985-cf4cee09aca5",
   "metadata": {},
   "outputs": [
    {
     "name": "stderr",
     "output_type": "stream",
     "text": [
      "Warning : `load_model` does not return WordVectorModel or SupervisedModel any more, but a `FastText` object which is very similar.\n"
     ]
    }
   ],
   "source": [
    "model = fasttext.load_model(model_path)"
   ]
  },
  {
   "cell_type": "code",
   "execution_count": 4,
   "id": "f51e8e70-6a13-4ee0-9976-6b3dca69f997",
   "metadata": {},
   "outputs": [
    {
     "data": {
      "text/plain": [
       "False"
      ]
     },
     "execution_count": 4,
     "metadata": {},
     "output_type": "execute_result"
    }
   ],
   "source": [
    "query in model.words"
   ]
  },
  {
   "cell_type": "markdown",
   "id": "2fe78b99-9385-4d22-af4f-1d61c1764659",
   "metadata": {},
   "source": [
    "### Checking if `query` is Out-Of-Vocabulary (OOV)"
   ]
  },
  {
   "cell_type": "code",
   "execution_count": 5,
   "id": "6e4c0250-cd29-41ab-aec7-fd3fab252366",
   "metadata": {},
   "outputs": [
    {
     "data": {
      "text/plain": [
       "-1"
      ]
     },
     "execution_count": 5,
     "metadata": {},
     "output_type": "execute_result"
    }
   ],
   "source": [
    "model.get_word_id(query)"
   ]
  },
  {
   "cell_type": "markdown",
   "id": "689c2a77-a8d6-4c1e-8100-5127963e1ab1",
   "metadata": {},
   "source": [
    "### Getting a copy of the full input matrix of a Model"
   ]
  },
  {
   "cell_type": "code",
   "execution_count": 6,
   "id": "a239e9f3-3fdd-401a-9b18-422d96db7943",
   "metadata": {},
   "outputs": [],
   "source": [
    "embeddings = model.get_input_matrix()"
   ]
  },
  {
   "cell_type": "code",
   "execution_count": 7,
   "id": "a3cdebb8-1eac-4152-b670-6c6378c2b0a3",
   "metadata": {},
   "outputs": [
    {
     "data": {
      "text/plain": [
       "array([[-0.15613616, -0.00356458, -0.12930149, ..., -0.10728721,\n",
       "        -0.04252381,  0.18029688],\n",
       "       [ 0.25154757, -0.15255873,  0.1887694 , ..., -0.26557404,\n",
       "         0.0757494 , -0.19356793],\n",
       "       [-0.05408973,  0.14642444, -0.08972213, ..., -0.22458382,\n",
       "         0.08341924,  0.19547725],\n",
       "       ...,\n",
       "       [ 0.06084336, -0.23052943, -0.2995869 , ...,  0.34839487,\n",
       "        -0.3797674 , -0.07417264],\n",
       "       [-0.09971589,  0.15364054, -0.30051127, ...,  0.11669045,\n",
       "         0.03423443, -0.1164437 ],\n",
       "       [-0.25392744,  0.40449083, -0.46832526, ..., -0.05358298,\n",
       "         0.27670175,  0.00591091]], dtype=float32)"
      ]
     },
     "execution_count": 7,
     "metadata": {},
     "output_type": "execute_result"
    }
   ],
   "source": [
    "embeddings"
   ]
  },
  {
   "cell_type": "code",
   "execution_count": 8,
   "id": "4dc7f514-b118-421e-b1c4-21bc71550b8d",
   "metadata": {},
   "outputs": [
    {
     "data": {
      "text/plain": [
       "(2358043, 100)"
      ]
     },
     "execution_count": 8,
     "metadata": {},
     "output_type": "execute_result"
    }
   ],
   "source": [
    "embeddings.shape"
   ]
  },
  {
   "cell_type": "markdown",
   "id": "7a693f88-a3ec-4d52-8bc4-fd271c1abab5",
   "metadata": {},
   "source": [
    "### Getting subwords and their indicies given `query`"
   ]
  },
  {
   "cell_type": "code",
   "execution_count": 9,
   "id": "bfc4c408-5207-4c8e-9d2f-7e6155603bc4",
   "metadata": {},
   "outputs": [],
   "source": [
    "subwords = model.get_subwords(query)"
   ]
  },
  {
   "cell_type": "code",
   "execution_count": 10,
   "id": "d2d7810b-9131-4f55-991f-b1b02b506183",
   "metadata": {},
   "outputs": [
    {
     "data": {
      "text/plain": [
       "(['<한국',\n",
       "  '<한국종',\n",
       "  '<한국종합',\n",
       "  '<한국종합주',\n",
       "  '한국종',\n",
       "  '한국종합',\n",
       "  '한국종합주',\n",
       "  '한국종합주가',\n",
       "  '국종합',\n",
       "  '국종합주',\n",
       "  '국종합주가',\n",
       "  '국종합주가지',\n",
       "  '종합주',\n",
       "  '종합주가',\n",
       "  '종합주가지',\n",
       "  '종합주가지수',\n",
       "  '합주가',\n",
       "  '합주가지',\n",
       "  '합주가지수',\n",
       "  '합주가지수>',\n",
       "  '주가지',\n",
       "  '주가지수',\n",
       "  '주가지수>',\n",
       "  '가지수',\n",
       "  '가지수>',\n",
       "  '지수>'],\n",
       " array([1482440, 1268781,  560494, 2296477, 1166387, 1862336, 1240583,\n",
       "        1193005, 1370684, 1238235,  717177,  923028, 2134421,  634651,\n",
       "         658166, 1720136,  856584, 1527279, 1547907,  527869, 1897216,\n",
       "        1231406,  775666,  820331, 1484741, 1565269]))"
      ]
     },
     "execution_count": 10,
     "metadata": {},
     "output_type": "execute_result"
    }
   ],
   "source": [
    "subwords"
   ]
  },
  {
   "cell_type": "markdown",
   "id": "1e01afa8-e9b1-4bfc-b4c3-07c64dd23ea3",
   "metadata": {},
   "source": [
    "### Calculating an embedding given `query` ourselves"
   ]
  },
  {
   "cell_type": "code",
   "execution_count": 11,
   "id": "4300d27b-f253-4586-b7fd-34b753debbf1",
   "metadata": {},
   "outputs": [],
   "source": [
    "result = np.zeros(\n",
    "    embeddings.shape[1], \n",
    "    dtype=np.float32\n",
    ")\n",
    "\n",
    "for _, subword_idx in enumerate(subwords[1]):\n",
    "    result += embeddings[subword_idx]\n",
    "    \n",
    "result = result / subwords[1].shape[0]"
   ]
  },
  {
   "cell_type": "markdown",
   "id": "2364fdef-63ff-4a65-a50f-4acd5932e516",
   "metadata": {},
   "source": [
    "### Verification"
   ]
  },
  {
   "cell_type": "code",
   "execution_count": 12,
   "id": "d4c3acf7-b06a-4588-ae6a-00a4fdbbd123",
   "metadata": {},
   "outputs": [
    {
     "data": {
      "text/plain": [
       "True"
      ]
     },
     "execution_count": 12,
     "metadata": {},
     "output_type": "execute_result"
    }
   ],
   "source": [
    "np.allclose(\n",
    "    result, \n",
    "    model.get_word_vector(query)\n",
    ")"
   ]
  },
  {
   "cell_type": "markdown",
   "id": "2876809a-87b9-488f-83f8-a91de09e9eca",
   "metadata": {
    "tags": []
   },
   "source": [
    "## PyTorch"
   ]
  },
  {
   "cell_type": "markdown",
   "id": "f6fefb0e-96f1-40e4-b1bc-2eaa1fb38c01",
   "metadata": {},
   "source": [
    "### `Embedding`"
   ]
  },
  {
   "cell_type": "code",
   "execution_count": 13,
   "id": "3ac17ad8-37c5-45bf-b2fa-7d5919c9220f",
   "metadata": {},
   "outputs": [],
   "source": [
    "torch_embedding = Embedding.from_pretrained(\n",
    "    torch.FloatTensor(model.get_input_matrix())\n",
    ")"
   ]
  },
  {
   "cell_type": "code",
   "execution_count": 14,
   "id": "f91da8ea-5786-4221-ad1b-1323b69fc30e",
   "metadata": {},
   "outputs": [
    {
     "data": {
      "text/plain": [
       "Embedding(2358043, 100)"
      ]
     },
     "execution_count": 14,
     "metadata": {},
     "output_type": "execute_result"
    }
   ],
   "source": [
    "torch_embedding"
   ]
  },
  {
   "cell_type": "code",
   "execution_count": 15,
   "id": "c0c42a03-1433-4f21-8280-be9b0f4dd299",
   "metadata": {},
   "outputs": [],
   "source": [
    "torch_result = torch_embedding(\n",
    "    torch.LongTensor(\n",
    "        subwords[1]\n",
    "    )\n",
    ").mean(axis=0)"
   ]
  },
  {
   "cell_type": "code",
   "execution_count": 16,
   "id": "e5b559e1-fba1-43ca-afbc-3ac5f6eae7c8",
   "metadata": {},
   "outputs": [
    {
     "data": {
      "text/plain": [
       "True"
      ]
     },
     "execution_count": 16,
     "metadata": {},
     "output_type": "execute_result"
    }
   ],
   "source": [
    "np.allclose(\n",
    "    result, \n",
    "    torch_result.numpy()\n",
    ")"
   ]
  },
  {
   "cell_type": "markdown",
   "id": "70bcaf83-dbd9-4aad-b55e-c425caa8fef5",
   "metadata": {},
   "source": [
    "### `EmbeddingBag`"
   ]
  },
  {
   "cell_type": "code",
   "execution_count": 17,
   "id": "86fa3972-7f8d-4b80-a377-5700c1a050b3",
   "metadata": {},
   "outputs": [],
   "source": [
    "# https://github.com/facebookresearch/fastText/blob/a20c0d27cd0ee88a25ea0433b7f03038cd728459/python/doc/examples/FastTextEmbeddingBag.py#L27\n",
    "\n",
    "\n",
    "class FastTextEmbeddingBag(EmbeddingBag):\n",
    "    def __init__(self, model_path):\n",
    "        self.model = fasttext.load_model(model_path)\n",
    "        input_matrix = self.model.get_input_matrix()\n",
    "        input_matrix_shape = input_matrix.shape\n",
    "        super().__init__(input_matrix_shape[0], input_matrix_shape[1])\n",
    "        self.weight.data.copy_(torch.FloatTensor(input_matrix))\n",
    "\n",
    "    def forward(self, words):\n",
    "        word_subinds = np.empty([0], dtype=np.int64)\n",
    "        word_offsets = [0]\n",
    "        for word in words:\n",
    "            _, subinds = self.model.get_subwords(word)\n",
    "            word_subinds = np.concatenate((word_subinds, subinds))\n",
    "            word_offsets.append(word_offsets[-1] + len(subinds))\n",
    "        word_offsets = word_offsets[:-1]\n",
    "        ind = Variable(torch.LongTensor(word_subinds))\n",
    "        offsets = Variable(torch.LongTensor(word_offsets))\n",
    "        return super().forward(ind, offsets)"
   ]
  },
  {
   "cell_type": "code",
   "execution_count": 18,
   "id": "39d2532f-a628-4417-bdf7-545eaceb6b8d",
   "metadata": {},
   "outputs": [
    {
     "name": "stderr",
     "output_type": "stream",
     "text": [
      "Warning : `load_model` does not return WordVectorModel or SupervisedModel any more, but a `FastText` object which is very similar.\n"
     ]
    }
   ],
   "source": [
    "torch_embeddingbag = FastTextEmbeddingBag(model_path)"
   ]
  },
  {
   "cell_type": "code",
   "execution_count": 19,
   "id": "5417abbd-d08a-41f4-8537-e7e0f43818d6",
   "metadata": {},
   "outputs": [
    {
     "data": {
      "text/plain": [
       "FastTextEmbeddingBag(2358043, 100, mode=mean)"
      ]
     },
     "execution_count": 19,
     "metadata": {},
     "output_type": "execute_result"
    }
   ],
   "source": [
    "torch_embeddingbag"
   ]
  },
  {
   "cell_type": "code",
   "execution_count": 20,
   "id": "c58dfbaf-8e65-4c04-b2cf-e8790ad02d5b",
   "metadata": {},
   "outputs": [
    {
     "data": {
      "text/plain": [
       "True"
      ]
     },
     "execution_count": 20,
     "metadata": {},
     "output_type": "execute_result"
    }
   ],
   "source": [
    "np.allclose(\n",
    "    torch_embeddingbag([query])[0].detach().numpy(), \n",
    "    model.get_word_vector(query)\n",
    ")"
   ]
  }
 ],
 "metadata": {
  "kernelspec": {
   "display_name": "Python 3 (ipykernel)",
   "language": "python",
   "name": "python3"
  },
  "language_info": {
   "codemirror_mode": {
    "name": "ipython",
    "version": 3
   },
   "file_extension": ".py",
   "mimetype": "text/x-python",
   "name": "python",
   "nbconvert_exporter": "python",
   "pygments_lexer": "ipython3",
   "version": "3.7.13"
  }
 },
 "nbformat": 4,
 "nbformat_minor": 5
}
