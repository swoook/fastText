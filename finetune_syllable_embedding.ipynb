{
 "cells": [
  {
   "cell_type": "markdown",
   "id": "9f353b38-6185-455b-bfa9-06db3aebd98c",
   "metadata": {},
   "source": [
    "# 사전 학습한 음절 임베딩으로 성인 검색어 인식 모델을 파인튜닝하기"
   ]
  },
  {
   "cell_type": "markdown",
   "id": "1703c4ca-2a6c-4866-9c25-c754a13cfaaa",
   "metadata": {
    "tags": []
   },
   "source": [
    "## Import"
   ]
  },
  {
   "cell_type": "code",
   "execution_count": null,
   "id": "37c35604-9014-48a6-b1be-b7ead5be2bc7",
   "metadata": {},
   "outputs": [],
   "source": [
    "import os\n",
    "import json\n",
    "from tqdm import tqdm\n",
    "import fasttext\n",
    "from mecab import MeCab\n",
    "import pandas as pd\n",
    "import numpy as np\n",
    "from sklearn.model_selection import train_test_split\n",
    "from sklearn.metrics import precision_recall_curve, PrecisionRecallDisplay, confusion_matrix, accuracy_score, fbeta_score\n",
    "from pandarallel import pandarallel\n",
    "pandarallel.initialize(progress_bar=True, use_memory_fs=True)"
   ]
  },
  {
   "cell_type": "markdown",
   "id": "c6dccb5c-ba2e-483f-a94b-9a126903619a",
   "metadata": {
    "tags": []
   },
   "source": [
    "## 초기화"
   ]
  },
  {
   "cell_type": "markdown",
   "id": "122411d2-505a-4c6d-ba26-961ebfcd6a94",
   "metadata": {
    "tags": []
   },
   "source": [
    "### 주요 파일 경로"
   ]
  },
  {
   "cell_type": "markdown",
   "id": "aa580e14-a1be-4c0d-9d85-a4747c6e6564",
   "metadata": {
    "tags": []
   },
   "source": [
    "### 데이터셋"
   ]
  },
  {
   "cell_type": "code",
   "execution_count": null,
   "id": "31fd2e39-3339-4365-a6b9-fa586e8941b9",
   "metadata": {},
   "outputs": [],
   "source": [
    "dataset = pd.read_csv(filepaths['dataset'])"
   ]
  },
  {
   "cell_type": "code",
   "execution_count": null,
   "id": "4b3a1fff-cbcb-45ac-95a1-998fa9c91b19",
   "metadata": {},
   "outputs": [],
   "source": [
    "train_set, val_set = train_test_split(dataset, test_size=0.3, random_state=777, stratify=dataset['label'])"
   ]
  },
  {
   "cell_type": "code",
   "execution_count": null,
   "id": "6ffc69f6-6b44-4483-85d2-717344342415",
   "metadata": {},
   "outputs": [],
   "source": [
    "train_set"
   ]
  },
  {
   "cell_type": "code",
   "execution_count": null,
   "id": "0383ccd1-4097-49cc-9064-973e2bef7627",
   "metadata": {},
   "outputs": [],
   "source": [
    "val_set"
   ]
  },
  {
   "cell_type": "markdown",
   "id": "e66866d0-9ceb-472a-a12f-1dd071aa1c12",
   "metadata": {
    "tags": []
   },
   "source": [
    "### MeCab 분석기"
   ]
  },
  {
   "cell_type": "code",
   "execution_count": null,
   "id": "50dbef08-4050-4a6c-a983-c1090320e94d",
   "metadata": {},
   "outputs": [],
   "source": [
    "mecab = MeCab()"
   ]
  },
  {
   "cell_type": "markdown",
   "id": "f8da3145-c7d8-4fcc-807f-e9bc3f687068",
   "metadata": {
    "tags": []
   },
   "source": [
    "### 음절 임베딩을 사전학습한 fastText"
   ]
  },
  {
   "cell_type": "code",
   "execution_count": null,
   "id": "9cb72dd2-36df-4a95-9a12-51724923fc6d",
   "metadata": {},
   "outputs": [],
   "source": [
    "model = fasttext.load_model(filepaths['fastText_w_syllable'])"
   ]
  },
  {
   "cell_type": "markdown",
   "id": "ba6d9c1e-7c33-42bb-a890-069c0541f624",
   "metadata": {},
   "source": [
    "#### 예시: 토큰 일부"
   ]
  },
  {
   "cell_type": "code",
   "execution_count": null,
   "id": "d341e8aa-4477-416d-bbfc-ea11238ee97b",
   "metadata": {},
   "outputs": [],
   "source": [
    "model.words[:10]"
   ]
  },
  {
   "cell_type": "markdown",
   "id": "1c69cd86-7a47-439b-aa50-6beb717c6ee8",
   "metadata": {
    "tags": []
   },
   "source": [
    "## 파인튜닝"
   ]
  },
  {
   "cell_type": "code",
   "execution_count": null,
   "id": "689d749d-ad28-4825-81fc-158b42566469",
   "metadata": {},
   "outputs": [],
   "source": [
    "def write_fasttext_set(dataframe, dst_path):\n",
    "    label_map = dict()\n",
    "    label_map[0] = '__label__Neutral'\n",
    "    label_map[1] = '__label__Toxic'\n",
    "    \n",
    "    results = dataframe.apply(\n",
    "        lambda x: ''.join([label_map[x['label']], ' ', x['text']]),\n",
    "        axis=1\n",
    "    )\n",
    "    \n",
    "    results.to_csv(dst_path, header=False, index=False)"
   ]
  },
  {
   "cell_type": "code",
   "execution_count": null,
   "id": "5dd4eb1a-841c-453b-9cc6-97a04f514ef1",
   "metadata": {},
   "outputs": [],
   "source": [
    "write_fasttext_set(train_set, 'train.txt')\n",
    "write_fasttext_set(val_set, 'val.txt')"
   ]
  },
  {
   "cell_type": "code",
   "execution_count": null,
   "id": "0daef36c-0506-40a0-9391-dc8645b92032",
   "metadata": {},
   "outputs": [],
   "source": [
    "model = fasttext.train_supervised(\n",
    "    'train.txt', \n",
    "    pretrainedVectors='./fasttext_syllable_pretrained/fasttext.vec',\n",
    ")"
   ]
  },
  {
   "cell_type": "code",
   "execution_count": null,
   "id": "d0602ba2-b25c-4a73-92b2-18a68cc4bd3e",
   "metadata": {},
   "outputs": [],
   "source": [
    "val_set"
   ]
  },
  {
   "cell_type": "code",
   "execution_count": null,
   "id": "780fc378-29d5-4172-b5c1-3f54564dcf7f",
   "metadata": {},
   "outputs": [],
   "source": [
    "tqdm.pandas()"
   ]
  },
  {
   "cell_type": "code",
   "execution_count": null,
   "id": "9b044606-b9e5-4066-9f43-6ee6df965655",
   "metadata": {},
   "outputs": [],
   "source": [
    "def infer(model, val_set):\n",
    "    return val_set.progress_apply(lambda x: model.predict(x['norm'], k=2), axis=1)"
   ]
  },
  {
   "cell_type": "code",
   "execution_count": null,
   "id": "ab3eccc1-7294-4e94-b4aa-d0e0cb22eaeb",
   "metadata": {},
   "outputs": [],
   "source": [
    "%%time\n",
    "validation_results = infer(model, val_set)"
   ]
  },
  {
   "cell_type": "code",
   "execution_count": null,
   "id": "8e48ef60-ae61-41df-9fd7-04b32e126d28",
   "metadata": {},
   "outputs": [],
   "source": [
    "validation_results"
   ]
  },
  {
   "cell_type": "code",
   "execution_count": null,
   "id": "ca154bed-1c5a-410c-8dd9-d2cc1030c503",
   "metadata": {},
   "outputs": [],
   "source": [
    "# model.save_model(\"model_filename.bin\")"
   ]
  },
  {
   "cell_type": "markdown",
   "id": "e64de84d-a47d-4a76-b0fb-d6014356a8d6",
   "metadata": {
    "tags": []
   },
   "source": [
    "## 평가"
   ]
  },
  {
   "cell_type": "markdown",
   "id": "6c7bfc43-3ad4-4d92-b6af-3126e2164bcb",
   "metadata": {},
   "source": [
    "### 정확도"
   ]
  },
  {
   "cell_type": "code",
   "execution_count": null,
   "id": "5d2e2d39-db7d-400b-af0c-8d0c97bff071",
   "metadata": {},
   "outputs": [],
   "source": [
    "def print_results(N, p, r):\n",
    "    print(\"N\\t\" + str(N))\n",
    "    print(\"P@{}\\t{:.3f}\".format(1, p))\n",
    "    print(\"R@{}\\t{:.3f}\".format(1, r))\n",
    "\n",
    "print_results(*model.test('val.txt'))"
   ]
  },
  {
   "cell_type": "markdown",
   "id": "6a561926-b992-4d08-8f7f-0ef142500490",
   "metadata": {},
   "source": [
    "### precision-recall curve"
   ]
  },
  {
   "cell_type": "code",
   "execution_count": null,
   "id": "ca8b18df-b2e1-4902-86eb-2aafdd2cd4ef",
   "metadata": {},
   "outputs": [],
   "source": [
    "def plot_precision_recall_curve(model, dataset):\n",
    "    labels = dataset['label']\n",
    "    preds = dataset.progress_apply(lambda x: model.predict(x['norm'], k=2), axis=1)\n",
    "    preds = preds.apply(lambda x: np.array(x[1])[np.argsort(x[0])][1])\n",
    "    PrecisionRecallDisplay.from_predictions(labels, preds)"
   ]
  },
  {
   "cell_type": "code",
   "execution_count": null,
   "id": "3d86281b-6125-4f06-b06c-1d3aa2013695",
   "metadata": {},
   "outputs": [],
   "source": [
    "plot_precision_recall_curve(model, val_set)"
   ]
  },
  {
   "cell_type": "code",
   "execution_count": null,
   "id": "10a9e960-c128-4646-96c6-d7ba681b8a99",
   "metadata": {},
   "outputs": [],
   "source": [
    "def get_precision_recall_curve(model, dataset):\n",
    "    labels = dataset['label']\n",
    "    preds = dataset.progress_apply(lambda x: model.predict(x['norm'], k=2), axis=1)\n",
    "    preds = preds.apply(lambda x: np.array(x[1])[np.argsort(x[0])][1])\n",
    "    return precision_recall_curve(labels, preds)"
   ]
  },
  {
   "cell_type": "code",
   "execution_count": null,
   "id": "7297c872-0377-4e76-8ff0-0f37b422388d",
   "metadata": {},
   "outputs": [],
   "source": [
    "metrics = dict()\n",
    "metrics['precision'], metrics['recall'], metrics['threshold'] = get_precision_recall_curve(model, val_set)"
   ]
  },
  {
   "cell_type": "markdown",
   "id": "e641217a-2db9-4865-a53d-e945864a05c9",
   "metadata": {},
   "source": [
    "### f1-score를 기준으로 가장 적절한 threshold를 결정하기"
   ]
  },
  {
   "cell_type": "code",
   "execution_count": null,
   "id": "0afc5bf9-5a5f-46bd-a898-b63ecb5e95ae",
   "metadata": {},
   "outputs": [],
   "source": [
    "def get_fbeta_score(precision, recall, beta=1):\n",
    "    coefficient = (1 + beta**2)\n",
    "    numerator = precision * recall\n",
    "    denominator = ((beta**2) * precision) + recall\n",
    "    return coefficient * (numerator/denominator)"
   ]
  }
 ],
 "metadata": {
  "kernelspec": {
   "display_name": "Python 3 (ipykernel)",
   "language": "python",
   "name": "python3"
  },
  "language_info": {
   "codemirror_mode": {
    "name": "ipython",
    "version": 3
   },
   "file_extension": ".py",
   "mimetype": "text/x-python",
   "name": "python",
   "nbconvert_exporter": "python",
   "pygments_lexer": "ipython3",
   "version": "3.10.7"
  }
 },
 "nbformat": 4,
 "nbformat_minor": 5
}
